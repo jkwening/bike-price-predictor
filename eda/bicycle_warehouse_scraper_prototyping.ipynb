{
 "cells": [
  {
   "cell_type": "code",
   "execution_count": null,
   "metadata": {},
   "outputs": [],
   "source": [
    "import sys\n",
    "from bs4 import BeautifulSoup\n",
    "sys.path.append('..')"
   ]
  },
  {
   "cell_type": "code",
   "execution_count": null,
   "metadata": {},
   "outputs": [],
   "source": [
    "from scrapers.bicycle_warehouse import BicycleWarehouse\n",
    "scraper = BicycleWarehouse()"
   ]
  },
  {
   "cell_type": "code",
   "execution_count": null,
   "metadata": {},
   "outputs": [],
   "source": [
    "# easytabs specs with no details\n",
    "href = '/collections/bmx-bikes/products/free-agent-team-junior-2018'\n",
    "text = scraper._fetch_prod_listing_view(endpoint=href)\n",
    "soup = BeautifulSoup(text, 'lxml')\n",
    "prod_specs = scraper._parse_prod_specs(soup=soup)"
   ]
  },
  {
   "cell_type": "code",
   "execution_count": null,
   "metadata": {},
   "outputs": [],
   "source": [
    "# details in own tab, specs as list\n",
    "href = '/collections/bmx-bikes/products/redline-raid-bmx-bike-2020'\n",
    "text = scraper._fetch_prod_listing_view(endpoint=href)\n",
    "soup = BeautifulSoup(text, 'lxml')\n",
    "prod_specs = scraper._parse_prod_specs(soup=soup)"
   ]
  },
  {
   "cell_type": "code",
   "execution_count": null,
   "metadata": {},
   "outputs": [],
   "source": [
    "# Details in first tab with additiona list text, specs bulleted in second tab\n",
    "href = '/collections/mountain-bikes/products/diamondback-atroz-1-27-5-mountain-bike-2018'\n",
    "text = scraper._fetch_prod_listing_view(endpoint=href)\n",
    "soup = BeautifulSoup(text, 'lxml')\n",
    "prod_specs = scraper._parse_prod_specs(soup=soup)"
   ]
  },
  {
   "cell_type": "code",
   "execution_count": null,
   "metadata": {},
   "outputs": [],
   "source": [
    "# Details in first tab, specs as table with formating issues\n",
    "href = '/collections/road-bikes/products/giant-tcx-advanced-pro-2-gravel-bike-2020'\n",
    "text = scraper._fetch_prod_listing_view(endpoint=href)\n",
    "soup = BeautifulSoup(text, 'lxml')\n",
    "prod_specs = scraper._parse_prod_specs(soup=soup)"
   ]
  },
  {
   "cell_type": "code",
   "execution_count": null,
   "metadata": {},
   "outputs": [],
   "source": [
    "# Details in own tab, specs tabular with four columns: alternating specs:value pairs across columns\n",
    "href = '/collections/gravel-adventure-bikes/products/niner-rlt-9-aluminum-2-star-gravel-bike'\n",
    "text = scraper._fetch_prod_listing_view(endpoint=href)\n",
    "soup = BeautifulSoup(text, 'lxml')\n",
    "prod_specs = scraper._parse_prod_specs(soup=soup)"
   ]
  },
  {
   "cell_type": "code",
   "execution_count": null,
   "metadata": {},
   "outputs": [],
   "source": [
    "# Details in own tab, specs tabular but with kit information\n",
    "href = '/collections/mountain-bikes/products/santa-cruz-hightower-lt-carbon-trail-mountain-bike-2019'\n",
    "text = scraper._fetch_prod_listing_view(endpoint=href)\n",
    "soup = BeautifulSoup(text, 'lxml')\n",
    "prod_specs = scraper._parse_prod_specs(soup=soup)"
   ]
  },
  {
   "cell_type": "code",
   "execution_count": null,
   "metadata": {
    "scrolled": true
   },
   "outputs": [],
   "source": [
    "# Specs embedded with details\n",
    "href = '/collections/mountain-bikes/products/niner-rip-9-rdo-5-star-eagle-29-full-suspension-mountain-bike'\n",
    "text = scraper._fetch_prod_listing_view(endpoint=href)\n",
    "soup = BeautifulSoup(text, 'lxml')\n",
    "prod_specs = scraper._parse_prod_specs(soup=soup)"
   ]
  },
  {
   "cell_type": "code",
   "execution_count": null,
   "metadata": {},
   "outputs": [],
   "source": []
  }
 ],
 "metadata": {
  "kernelspec": {
   "display_name": "Python 3",
   "language": "python",
   "name": "python3"
  },
  "language_info": {
   "codemirror_mode": {
    "name": "ipython",
    "version": 3
   },
   "file_extension": ".py",
   "mimetype": "text/x-python",
   "name": "python",
   "nbconvert_exporter": "python",
   "pygments_lexer": "ipython3",
   "version": "3.6.9"
  }
 },
 "nbformat": 4,
 "nbformat_minor": 2
}
