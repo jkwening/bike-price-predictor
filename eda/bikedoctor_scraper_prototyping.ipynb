{
 "cells": [
  {
   "cell_type": "markdown",
   "metadata": {},
   "source": [
    "### Template for testing specific urls that cause problems or need specific edge case logic."
   ]
  },
  {
   "cell_type": "code",
   "execution_count": 1,
   "metadata": {},
   "outputs": [],
   "source": [
    "import sys\n",
    "from bs4 import BeautifulSoup\n",
    "sys.path.append('..')"
   ]
  },
  {
   "cell_type": "code",
   "execution_count": 2,
   "metadata": {},
   "outputs": [],
   "source": [
    "from scrapers.bike_doctor import BikeDoctor\n",
    "scraper = BikeDoctor()"
   ]
  },
  {
   "cell_type": "code",
   "execution_count": 5,
   "metadata": {},
   "outputs": [
    {
     "name": "stdout",
     "output_type": "stream",
     "text": [
      "Performing GET request for: https://www.bikedoctorwaldorf.com/product-list/bikes-1000/road-1001/?rb_ct=1237\n",
      "[1] New bike:  {'site': 'bike_doctor', 'bike_type': 'road', 'subtype': 'endurance_gravel', 'href': '/product/all-city-gorilla-monsoon-354553-1.htm', 'product_id': '354553', 'description': 'All-City Gorilla Monsoon', 'brand': 'All-City', 'price': 2099.0, 'msrp': 2099.0}\n",
      "[2] New bike:  {'site': 'bike_doctor', 'bike_type': 'road', 'subtype': 'endurance_gravel', 'href': '/product/salsa-cutthroat-rival-1-346062-1.htm', 'product_id': '346062', 'description': 'Salsa Cutthroat Rival 1', 'brand': 'Salsa', 'price': 3699.0, 'msrp': 3699.0}\n",
      "[3] New bike:  {'site': 'bike_doctor', 'bike_type': 'road', 'subtype': 'endurance_gravel', 'href': '/product/salsa-vaya-105-346081-1.htm', 'product_id': '346081', 'description': 'Salsa Vaya 105', 'brand': 'Salsa', 'price': 1999.0, 'msrp': 1999.0}\n",
      "[4] New bike:  {'site': 'bike_doctor', 'bike_type': 'road', 'subtype': 'endurance_gravel', 'href': '/product/all-city-space-horse-disc-354556-1.htm', 'product_id': '354556', 'description': 'All-City Space Horse Disc', 'brand': 'All-City', 'price': 1499.0, 'msrp': 1499.0}\n",
      "[5] New bike:  {'site': 'bike_doctor', 'bike_type': 'road', 'subtype': 'endurance_gravel', 'href': '/product/salsa-journeyman-apex-1-700-356294-1.htm', 'product_id': '356294', 'description': 'Salsa Journeyman Apex 1 700', 'brand': 'Salsa', 'price': 1499.0, 'msrp': 1499.0}\n",
      "[6] New bike:  {'site': 'bike_doctor', 'bike_type': 'road', 'subtype': 'endurance_gravel', 'href': '/product/salsa-warbird-carbon-tiagra-700-346076-1.htm', 'product_id': '346076', 'description': 'Salsa Warbird Carbon Tiagra 700', 'brand': 'Salsa', 'price': 2399.0, 'msrp': 2399.0}\n",
      "[7] New bike:  {'site': 'bike_doctor', 'bike_type': 'road', 'subtype': 'endurance_gravel', 'href': '/product/cannondale-synapse-carbon-disc-105-se-345720-1.htm', 'product_id': '345720', 'description': 'Cannondale Synapse Carbon Disc 105 SE', 'brand': 'Cannondale', 'price': 2399.0, 'msrp': 2850.0}\n",
      "[8] New bike:  {'site': 'bike_doctor', 'bike_type': 'road', 'subtype': 'endurance_gravel', 'href': '/product/all-city-mr.-pink-343605-1.htm', 'product_id': '343605', 'description': 'All-City Mr. Pink', 'brand': 'All-City', 'price': 1499.0, 'msrp': 1499.0}\n",
      "[9] New bike:  {'site': 'bike_doctor', 'bike_type': 'road', 'subtype': 'endurance_gravel', 'href': '/product/salsa-vaya-grx-600-366691-1.htm', 'product_id': '366691', 'description': 'Salsa Vaya GRX 600', 'brand': 'Salsa', 'price': 2299.0, 'msrp': 2299.0}\n",
      "[10] New bike:  {'site': 'bike_doctor', 'bike_type': 'road', 'subtype': 'endurance_gravel', 'href': '/product/salsa-cutthroat-grx-810-1x-368501-1.htm', 'product_id': '368501', 'description': 'Salsa Cutthroat GRX 810 1X', 'brand': 'Salsa', 'price': 4199.0, 'msrp': 4199.0}\n",
      "[11] New bike:  {'site': 'bike_doctor', 'bike_type': 'road', 'subtype': 'endurance_gravel', 'href': '/product/felt-bicycles-vr5-350797-1.htm', 'product_id': '350797', 'description': 'Felt Bicycles VR5', 'brand': 'Felt Bicycles', 'price': 2649.0, 'msrp': 2649.0}\n",
      "[12] New bike:  {'site': 'bike_doctor', 'bike_type': 'road', 'subtype': 'endurance_gravel', 'href': '/product/cannondale-synapse-neo-1-366134-1.htm', 'product_id': '366134', 'description': 'Cannondale Synapse Neo 1', 'brand': 'Cannondale', 'price': 5000.0, 'msrp': 5000.0}\n",
      "[13] New bike:  {'site': 'bike_doctor', 'bike_type': 'road', 'subtype': 'endurance_gravel', 'href': '/product/salsa-journeyman-flat-bar-claris-700-330466-1.htm', 'product_id': '330466', 'description': 'Salsa Journeyman Flat Bar Claris 700', 'brand': 'Salsa', 'price': 949.0, 'msrp': 949.0}\n",
      "[14] New bike:  {'site': 'bike_doctor', 'bike_type': 'road', 'subtype': 'endurance_gravel', 'href': '/product/salsa-journeyman-claris-650-330460-1.htm', 'product_id': '330460', 'description': 'Salsa Journeyman Claris 650', 'brand': 'Salsa', 'price': 949.0, 'msrp': 949.0}\n",
      "[15] New bike:  {'site': 'bike_doctor', 'bike_type': 'road', 'subtype': 'endurance_gravel', 'href': '/product/salsa-journeyman-sora-700-330458-1.htm', 'product_id': '330458', 'description': 'Salsa Journeyman Sora 700', 'brand': 'Salsa', 'price': 1199.0, 'msrp': 1199.0}\n",
      "[16] New bike:  {'site': 'bike_doctor', 'bike_type': 'road', 'subtype': 'endurance_gravel', 'href': '/product/salsa-journeyman-claris-700-330461-1.htm', 'product_id': '330461', 'description': 'Salsa Journeyman Claris 700', 'brand': 'Salsa', 'price': 949.0, 'msrp': 949.0}\n",
      "[17] New bike:  {'site': 'bike_doctor', 'bike_type': 'road', 'subtype': 'endurance_gravel', 'href': '/product/salsa-warroad-105-650-356319-1.htm', 'product_id': '356319', 'description': 'Salsa Warroad 105 650', 'brand': 'Salsa', 'price': 3399.0, 'msrp': 3399.0}\n",
      "[18] New bike:  {'site': 'bike_doctor', 'bike_type': 'road', 'subtype': 'endurance_gravel', 'href': '/product/trek-checkpoint-alr-4-womens-329412-1.htm', 'product_id': '329412', 'description': \"Trek Checkpoint ALR 4 Women's\", 'brand': 'Trek', 'price': 1699.99, 'msrp': 1889.99}\n",
      "[19] New bike:  {'site': 'bike_doctor', 'bike_type': 'road', 'subtype': 'endurance_gravel', 'href': '/product/trek-checkpoint-al-3-351440-1.htm', 'product_id': '351440', 'description': 'Trek Checkpoint AL 3', 'brand': 'Trek', 'price': 1199.99, 'msrp': 1199.99}\n",
      "[20] New bike:  {'site': 'bike_doctor', 'bike_type': 'road', 'subtype': 'endurance_gravel', 'href': '/product/felt-bicycles-vr30-350796-1.htm', 'product_id': '350796', 'description': 'Felt Bicycles VR30', 'brand': 'Felt Bicycles', 'price': 1899.0, 'msrp': 1899.0}\n",
      "[21] New bike:  {'site': 'bike_doctor', 'bike_type': 'road', 'subtype': 'endurance_gravel', 'href': '/product/cannondale-synapse-carbon-disc-ultegra-di2-305200-1.htm', 'product_id': '305200', 'description': 'Cannondale Synapse Carbon Disc Ultegra Di2', 'brand': 'Cannondale', 'price': 4199.99, 'msrp': 4199.99}\n",
      "[22] New bike:  {'site': 'bike_doctor', 'bike_type': 'road', 'subtype': 'endurance_gravel', 'href': '/product/all-city-mr.-pink-tenth-anniversary-344527-1.htm', 'product_id': '344527', 'description': 'All-City Mr. Pink Tenth Anniversary', 'brand': 'All-City', 'price': 2399.0, 'msrp': 2399.0}\n",
      "[23] New bike:  {'site': 'bike_doctor', 'bike_type': 'road', 'subtype': 'endurance_gravel', 'href': '/product/santa-cruz-stigmata-force-axs-650b-reserve-362431-1.htm', 'product_id': '362431', 'description': 'Santa Cruz Stigmata Force AXS 650b Reserve', 'brand': 'Santa Cruz', 'price': 7099.0, 'msrp': 7099.0}\n",
      "[24] New bike:  {'site': 'bike_doctor', 'bike_type': 'road', 'subtype': 'endurance_gravel', 'href': '/product/pinarello-gan-disc-350812-1.htm', 'product_id': '350812', 'description': 'Pinarello GAN Disc', 'brand': 'Pinarello', 'price': 3200.0, 'msrp': 3200.0}\n",
      "[25] New bike:  {'site': 'bike_doctor', 'bike_type': 'road', 'subtype': 'endurance_gravel', 'href': '/product/pinarello-grevil-ultegra-350838-1.htm', 'product_id': '350838', 'description': 'Pinarello Grevil Ultegra', 'brand': 'Pinarello', 'price': 4950.0, 'msrp': 4950.0}\n",
      "[26] New bike:  {'site': 'bike_doctor', 'bike_type': 'road', 'subtype': 'endurance_gravel', 'href': '/product/pinarello-gan-350810-1.htm', 'product_id': '350810', 'description': 'Pinarello GAN', 'brand': 'Pinarello', 'price': 2250.0, 'msrp': 2250.0}\n",
      "[27] New bike:  {'site': 'bike_doctor', 'bike_type': 'road', 'subtype': 'endurance_gravel', 'href': '/product/pinarello-grevil-sram-force-1-350839-1.htm', 'product_id': '350839', 'description': 'Pinarello Grevil SRAM Force 1', 'brand': 'Pinarello', 'price': 5200.0, 'msrp': 5200.0}\n",
      "[28] New bike:  {'site': 'bike_doctor', 'bike_type': 'road', 'subtype': 'endurance_gravel', 'href': '/product/pinarello-grevil-ultegra-di2-350840-1.htm', 'product_id': '350840', 'description': 'Pinarello Grevil Ultegra Di2', 'brand': 'Pinarello', 'price': 6300.0, 'msrp': 6300.0}\n",
      "[29] New bike:  {'site': 'bike_doctor', 'bike_type': 'road', 'subtype': 'endurance_gravel', 'href': '/product/pinarello-angliru-350952-1.htm', 'product_id': '350952', 'description': 'Pinarello Angliru', 'brand': 'Pinarello', 'price': 2200.0, 'msrp': 2200.0}\n",
      "[30] New bike:  {'site': 'bike_doctor', 'bike_type': 'road', 'subtype': 'endurance_gravel', 'href': '/product/pinarello-grevil-sram-force-350836-1.htm', 'product_id': '350836', 'description': 'Pinarello Grevil+ SRAM Force', 'brand': 'Pinarello', 'price': 7700.0, 'msrp': 7700.0}\n"
     ]
    },
    {
     "data": {
      "text/plain": [
       "30"
      ]
     },
     "execution_count": 5,
     "metadata": {},
     "output_type": "execute_result"
    }
   ],
   "source": [
    "# test parsing prod page, \n",
    "href = '/product-list/bikes-1000/road-1001/?rb_ct=1237'\n",
    "url = f'{scraper._BASE_URL}{href}'\n",
    "text = scraper._fetch_html(url)\n",
    "soup = BeautifulSoup(text, 'lxml')\n",
    "scraper._get_prods_on_current_listings_page(soup, 'road', 'endurance_gravel')"
   ]
  },
  {
   "cell_type": "code",
   "execution_count": 8,
   "metadata": {},
   "outputs": [
    {
     "name": "stdout",
     "output_type": "stream",
     "text": [
      "[25] Product specs:  {'sizes': 'S, M, ML, L, XL', 'colors': 'Olympic Blue', 'frame': 'Advanced-Grade Composite, 12mm thru-axle, disc', 'fork': 'Advanced-Grade Composite, full-composite OverDrive 2 steerer, disc', 'shock': 'N/A', 'handlebar': 'Giant Contact', 'stem': 'Giant Contact', 'seatpost': 'Giant D-Fuse SL, composite', 'saddle': 'Giant Contact (neutral)', 'pedals': 'N/A', 'shifters': 'SRAM Rival 1', 'front_derailleur': 'N/A', 'rear_derailleur': 'SRAM Rival 1', 'brakes': 'SRAM Rival 1 hydraulic', 'brake_levers': 'SRAM Rival 1', 'cassette': 'SRAM PG1130, 11x36', 'chain': 'SRAM PC1170', 'crankset': 'SRAM Rival 11x, 40t', 'bottom_bracket': 'SRAM GXP, press fit', 'rims': 'Giant P-X2 Disc wheelset', 'hubs': 'Giant P-X2 Disc wheelset', 'spokes': 'Giant P-X2 Disc wheelset', 'tires': 'Maxxis All-Terrene, 700x33, tubeless', 'extras': 'Giant 1x chainguide', 'weight': ''}\n"
     ]
    }
   ],
   "source": [
    "prod_specs = scraper._parse_prod_specs(soup=soup)"
   ]
  },
  {
   "cell_type": "code",
   "execution_count": 5,
   "metadata": {},
   "outputs": [
    {
     "name": "stdout",
     "output_type": "stream",
     "text": [
      "Performing GET request for: https://bicyclewarehouse.com/collections/bmx-bikes/products/redline-raid-bmx-bike-2020\n",
      "[21] Product specs:  {'frame': 'Hi-Ten', 'fork_type': 'Hi-Ten Tubular', 'headset': 'Threadless, 1\"', 'cranks': 'RL spec 140mm One Piece crank', 'sprocket': '40t', 'bottom_bracket': 'American LB', 'cog_set': '16t', 'chain': 'KMC Z410', 'front_hub': 'LB, 3/8\" Axle', 'rear_hub': 'RL Spec Coaster Brake', 'spokes': '14g', 'rims': 'RL 20 Alloy, 36h', 'tires': 'Kenda Kontact 20 x 1.95\"', 'brakes': 'Linear and Coaster Brake', 'brake_levers': 'Alloy Tektro', 'pedals': 'RL spec PC Platform 1/2\"', 'handlebar': 'Hi ten , 5.5\" Rise , 12Á Back, 1Á Up', 'grips': 'Redline Hex Mini', 'stem': 'RL 40mm Aluminum', 'seat': 'RL Padded', 'seat_post': '22.2'}\n"
     ]
    }
   ],
   "source": [
    "href = '/collections/bmx-bikes/products/redline-raid-bmx-bike-2020'\n",
    "text = scraper._fetch_prod_listing_view(endpoint=href)\n",
    "soup = BeautifulSoup(text, 'lxml')\n",
    "prod_specs = scraper._parse_prod_specs(soup=soup)"
   ]
  },
  {
   "cell_type": "code",
   "execution_count": 6,
   "metadata": {},
   "outputs": [
    {
     "name": "stdout",
     "output_type": "stream",
     "text": [
      "Performing GET request for: https://bicyclewarehouse.com/collections/mountain-bikes/products/diamondback-atroz-1-27-5-mountain-bike-2018\n",
      "[14] Product specs:  {'frame': 'Atroz 6061 T-6 Aluminum 27.5 Trail w/ 4″ travel, Optimized Single Pivot, Machine Formed Top Tube, Butted / Formed Down Tube, Sealed Cartridge Bearing Pivot, Seat Tube Routed for Internal Dropper Post, Aggressive Geometry, Replaceable Hanger', 'fork': '\\xa0SR Suntour XCM 120mm Travel, 30mm Stanchions, w/ Preload Adjust', 'rear_shock': 'Kindshock, Coil Shock, 184x44mm', 'tires': '\\xa0VEE Rubber – Trax 27.5×2.35', 'rims': 'DDM-2, 32h, 27.5 Doublewall', 'crankset': '\\xa0SR Suntour XCC, 42/32/22T', 'front_derailleur': '\\xa0Shimano Alivio M410, E-Type', 'rear_derailleur': '\\xa0Shimano Acera M360, 8 Speed', 'shifters': '\\xa0Shimano Acera SL-M310, 3×8 Speed', 'cassette': 'Shimano HG-31, 8 Speed, 11-32T', 'brakes': '\\xa0Tektro Aries Mechanical Disc, w/180mm Front and 160mm Rear Rotors', 'saddle': '\\xa0DB Sync’r Saddle', 'pedals': 'DB4L Alloy Platform', 'number_of_gears': '\\xa024'}\n"
     ]
    }
   ],
   "source": [
    "href = '/collections/mountain-bikes/products/diamondback-atroz-1-27-5-mountain-bike-2018'\n",
    "text = scraper._fetch_prod_listing_view(endpoint=href)\n",
    "soup = BeautifulSoup(text, 'lxml')\n",
    "prod_specs = scraper._parse_prod_specs(soup=soup)"
   ]
  },
  {
   "cell_type": "code",
   "execution_count": 7,
   "metadata": {},
   "outputs": [
    {
     "name": "stdout",
     "output_type": "stream",
     "text": [
      "Performing GET request for: https://bicyclewarehouse.com/collections/road-bikes/products/giant-tcx-advanced-pro-2-gravel-bike-2020\n",
      "[25] Product specs:  {'sizes': 'S, M, ML, L, XL', 'colors': 'Olympic Blue', 'frame': 'Advanced-Grade Composite, 12mm thru-axle, disc', 'fork': 'Advanced-Grade Composite, full-composite OverDrive 2 steerer, disc', 'shock': 'N/A', 'handlebar': 'Giant Contact', 'stem': 'Giant Contact', 'seatpost': 'Giant D-Fuse SL, composite', 'saddle': 'Giant Contact (neutral)', 'pedals': 'N/A', 'shifters': 'SRAM Rival 1', 'front_derailleur': 'N/A', 'rear_derailleur': 'SRAM Rival 1', 'brakes': 'SRAM Rival 1 hydraulic', 'brake_levers': 'SRAM Rival 1', 'cassette': 'SRAM PG1130, 11x36', 'chain': 'SRAM PC1170', 'crankset': 'SRAM Rival 11x, 40t', 'bottom_bracket': 'SRAM GXP, press fit', 'rims': 'Giant P-X2 Disc wheelset', 'hubs': 'Giant P-X2 Disc wheelset', 'spokes': 'Giant P-X2 Disc wheelset', 'tires': 'Maxxis All-Terrene, 700x33, tubeless', 'extras': 'Giant 1x chainguide', 'weight': ''}\n"
     ]
    }
   ],
   "source": [
    "href = '/collections/road-bikes/products/giant-tcx-advanced-pro-2-gravel-bike-2020'\n",
    "text = scraper._fetch_prod_listing_view(endpoint=href)\n",
    "soup = BeautifulSoup(text, 'lxml')\n",
    "prod_specs = scraper._parse_prod_specs(soup=soup)"
   ]
  },
  {
   "cell_type": "code",
   "execution_count": 9,
   "metadata": {},
   "outputs": [
    {
     "name": "stdout",
     "output_type": "stream",
     "text": [
      "Performing GET request for: https://bicyclewarehouse.com/collections/mountain-bikes/products/santa-cruz-hightower-lt-carbon-trail-mountain-bike-2019\n",
      "[25] Product specs:  {'xtr_reserve': 'XX1 RESERVE', '12_87kg_28_38lbs': '12.92kg / 28.47lbs', 'carbon_cc': 'Carbon CC', 'fox_36_float_factory_150mm_29\"': 'FOX 36 Float Factory, 150mm, 29\"', 'fox_float_factory_dpx_kashima': 'FOX Float Factory DPX Kashima', 'shimano_xtr_m9100_sgs_11_12spd': 'SRAM XX1 Eagle', 'shimano_xtr_m9100_sl_12spd_i_spec': 'SRAM XX1 Eagle', 'shimano_xtr_m9120_148_30t_170mm_xs_s_175mm_m_xl': 'SRAM XX1 Eagle 148 DUB, 30t - 170mm (XS-S), 175mm (M-XL)', 'shimano_xtr_12spd_10_51': 'SRAM XG1295 Eagle 10-50T', 'shimano_xtr_12spd_w_quick_link': 'SRAM XX1 Eagle 12 SPD', 'shimano_xtr_m9120': 'SRAM Code RSC', 'shimano_xtr_ice__tech_rotors_centerlock_203mm': 'Avid Centerline, 200mm Front, 180mm Rear', 'cane_creek_110_is_integrated_headset': 'Cane Creek 110 IS Integrated Headset', 'scb_am_carbon': 'SCB AM Carbon', 'race_face_turbine_r_50mm': 'Race Face Turbine R 50mm', 'santa_cruz_palmdale_grips': 'Santa Cruz Palmdale Grips', 'dt_swiss_240_15x110_centerlock_28h': 'I9 15x110 28H', 'dt_swiss_240_12x148_centerlock_xd_28h': 'I9 148x12 28H XD', 'santa_cruz_reserve_30_carbon_rim_29_28h': '', '': 'Santa Cruz Reserve 30 Carbon Rim - 29 28h', 'dt_competition_race_28': 'DT Competition Race (28)', 'maxxis_minion_dhr2_29\"x2_4\"_3c_silkshield': 'Maxxis Minion DHR2, 29\"x2.4\", 3C Silkshield', 'stans_sealant_2oz': 'Stans Sealant 2oz', 'rockshox_reverb_stealth_discrete_lever_31_6': 'RockShox Reverb Stealth 31.6', 'wtb_silverado_team_saddle': 'WTB Silverado Team Saddle'}\n"
     ]
    }
   ],
   "source": [
    "href = '/collections/mountain-bikes/products/santa-cruz-hightower-lt-carbon-trail-mountain-bike-2019'\n",
    "text = scraper._fetch_prod_listing_view(endpoint=href)\n",
    "soup = BeautifulSoup(text, 'lxml')\n",
    "prod_specs = scraper._parse_prod_specs(soup=soup)"
   ]
  },
  {
   "cell_type": "code",
   "execution_count": null,
   "metadata": {},
   "outputs": [],
   "source": []
  }
 ],
 "metadata": {
  "kernelspec": {
   "display_name": "Python 3",
   "language": "python",
   "name": "python3"
  },
  "language_info": {
   "codemirror_mode": {
    "name": "ipython",
    "version": 3
   },
   "file_extension": ".py",
   "mimetype": "text/x-python",
   "name": "python",
   "nbconvert_exporter": "python",
   "pygments_lexer": "ipython3",
   "version": "3.6.9"
  }
 },
 "nbformat": 4,
 "nbformat_minor": 2
}
