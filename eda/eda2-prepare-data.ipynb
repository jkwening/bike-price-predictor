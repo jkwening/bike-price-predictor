{
 "cells": [
  {
   "cell_type": "code",
   "execution_count": 1,
   "metadata": {},
   "outputs": [],
   "source": [
    "# modules needed for inline matplotlib and seaborn\n",
    "import numpy as np\n",
    "import matplotlib.pyplot as plt\n",
    "import seaborn as sns\n",
    "%matplotlib inline\n",
    "sns.set()  # set plotting style to seaborn"
   ]
  },
  {
   "cell_type": "code",
   "execution_count": 2,
   "metadata": {},
   "outputs": [],
   "source": [
    "# modules\n",
    "import pandas as pd\n",
    "\n",
    "# sklearn modules\n",
    "from sklearn.model_selection import StratifiedShuffleSplit"
   ]
  },
  {
   "cell_type": "code",
   "execution_count": 3,
   "metadata": {},
   "outputs": [],
   "source": [
    "# add project path into system path so can do relative import of project modules\n",
    "import sys\n",
    "sys.path.append('..')\n",
    "from utils.utils import GROUPSET_RANKING"
   ]
  },
  {
   "cell_type": "markdown",
   "metadata": {},
   "source": [
    "## Load Data File"
   ]
  },
  {
   "cell_type": "code",
   "execution_count": 4,
   "metadata": {},
   "outputs": [
    {
     "data": {
      "text/html": [
       "<div>\n",
       "<style scoped>\n",
       "    .dataframe tbody tr th:only-of-type {\n",
       "        vertical-align: middle;\n",
       "    }\n",
       "\n",
       "    .dataframe tbody tr th {\n",
       "        vertical-align: top;\n",
       "    }\n",
       "\n",
       "    .dataframe thead th {\n",
       "        text-align: right;\n",
       "    }\n",
       "</style>\n",
       "<table border=\"1\" class=\"dataframe\">\n",
       "  <thead>\n",
       "    <tr style=\"text-align: right;\">\n",
       "      <th></th>\n",
       "      <th>site</th>\n",
       "      <th>bike_type</th>\n",
       "      <th>product_id</th>\n",
       "      <th>href</th>\n",
       "      <th>description</th>\n",
       "      <th>brand</th>\n",
       "      <th>price</th>\n",
       "      <th>msrp</th>\n",
       "      <th>frame_material</th>\n",
       "      <th>model_year</th>\n",
       "      <th>...</th>\n",
       "      <th>handlebar_material</th>\n",
       "      <th>fd_groupset</th>\n",
       "      <th>rd_groupset</th>\n",
       "      <th>cassette_groupset</th>\n",
       "      <th>crankset_material</th>\n",
       "      <th>crankset_groupset</th>\n",
       "      <th>seatpost_material</th>\n",
       "      <th>chain_groupset</th>\n",
       "      <th>shifter_groupset</th>\n",
       "      <th>price_x</th>\n",
       "    </tr>\n",
       "  </thead>\n",
       "  <tbody>\n",
       "    <tr>\n",
       "      <th>0</th>\n",
       "      <td>jenson</td>\n",
       "      <td>mountain</td>\n",
       "      <td>BI178B01</td>\n",
       "      <td>/Evil-Wreckoning-XT-Jenson-USA-Exclusive-Build</td>\n",
       "      <td>Evil Wreckoning  XT Jenson USA Exclusive Build</td>\n",
       "      <td>Evil</td>\n",
       "      <td>3499.99</td>\n",
       "      <td>5800.00</td>\n",
       "      <td>NaN</td>\n",
       "      <td>NaN</td>\n",
       "      <td>...</td>\n",
       "      <td>NaN</td>\n",
       "      <td>NaN</td>\n",
       "      <td>shimano deore xt</td>\n",
       "      <td>shimano deore xt</td>\n",
       "      <td>NaN</td>\n",
       "      <td>race face</td>\n",
       "      <td>NaN</td>\n",
       "      <td>shimano 105</td>\n",
       "      <td>shimano deore xt</td>\n",
       "      <td>NaN</td>\n",
       "    </tr>\n",
       "    <tr>\n",
       "      <th>1</th>\n",
       "      <td>jenson</td>\n",
       "      <td>mountain</td>\n",
       "      <td>BI001298</td>\n",
       "      <td>/Evil-Following-V1-GX-Eagle-Jenson-USA-Exclusi...</td>\n",
       "      <td>Evil Following V1 GX Eagle Jenson USA Exclusiv...</td>\n",
       "      <td>Evil</td>\n",
       "      <td>3499.99</td>\n",
       "      <td>4844.99</td>\n",
       "      <td>carbon</td>\n",
       "      <td>NaN</td>\n",
       "      <td>...</td>\n",
       "      <td>NaN</td>\n",
       "      <td>NaN</td>\n",
       "      <td>sram gx</td>\n",
       "      <td>sram gx eagle</td>\n",
       "      <td>NaN</td>\n",
       "      <td>sram gx</td>\n",
       "      <td>NaN</td>\n",
       "      <td>sram gx</td>\n",
       "      <td>sram gx</td>\n",
       "      <td>NaN</td>\n",
       "    </tr>\n",
       "    <tr>\n",
       "      <th>2</th>\n",
       "      <td>jenson</td>\n",
       "      <td>mountain</td>\n",
       "      <td>BI001373</td>\n",
       "      <td>/Ibis-Ripmo-AF-NX-Eagle-Bike-2020</td>\n",
       "      <td>Ibis Ripmo AF NX Eagle Bike 2020</td>\n",
       "      <td>Ibis</td>\n",
       "      <td>2999.00</td>\n",
       "      <td>2999.00</td>\n",
       "      <td>aluminium</td>\n",
       "      <td>2020.0</td>\n",
       "      <td>...</td>\n",
       "      <td>aluminium</td>\n",
       "      <td>NaN</td>\n",
       "      <td>sram nx</td>\n",
       "      <td>sram nx</td>\n",
       "      <td>steel</td>\n",
       "      <td>sram nx</td>\n",
       "      <td>NaN</td>\n",
       "      <td>sram nx</td>\n",
       "      <td>sram nx</td>\n",
       "      <td>NaN</td>\n",
       "    </tr>\n",
       "    <tr>\n",
       "      <th>3</th>\n",
       "      <td>jenson</td>\n",
       "      <td>mountain</td>\n",
       "      <td>BI174B07</td>\n",
       "      <td>/Devinci-Spartan-29-NX12S</td>\n",
       "      <td>Devinci Spartan 29 NX 2019</td>\n",
       "      <td>Devinci</td>\n",
       "      <td>2299.99</td>\n",
       "      <td>3299.00</td>\n",
       "      <td>aluminium</td>\n",
       "      <td>2019.0</td>\n",
       "      <td>...</td>\n",
       "      <td>NaN</td>\n",
       "      <td>NaN</td>\n",
       "      <td>sram nx</td>\n",
       "      <td>sram gx eagle</td>\n",
       "      <td>NaN</td>\n",
       "      <td>sram gx</td>\n",
       "      <td>NaN</td>\n",
       "      <td>sram nx</td>\n",
       "      <td>sram nx</td>\n",
       "      <td>NaN</td>\n",
       "    </tr>\n",
       "    <tr>\n",
       "      <th>4</th>\n",
       "      <td>jenson</td>\n",
       "      <td>mountain</td>\n",
       "      <td>BI001166</td>\n",
       "      <td>/Niner-Rip-9-Gx-Eagle-Jenson-USA-Exclusive-Build</td>\n",
       "      <td>Niner Rip 9 Gx Eagle Jenson USA Exclusive Build</td>\n",
       "      <td>Niner</td>\n",
       "      <td>2599.99</td>\n",
       "      <td>4300.00</td>\n",
       "      <td>aluminium</td>\n",
       "      <td>NaN</td>\n",
       "      <td>...</td>\n",
       "      <td>NaN</td>\n",
       "      <td>NaN</td>\n",
       "      <td>sram gx</td>\n",
       "      <td>sram nx</td>\n",
       "      <td>NaN</td>\n",
       "      <td>sram gx</td>\n",
       "      <td>NaN</td>\n",
       "      <td>sram nx</td>\n",
       "      <td>sram gx</td>\n",
       "      <td>NaN</td>\n",
       "    </tr>\n",
       "  </tbody>\n",
       "</table>\n",
       "<p>5 rows × 22 columns</p>\n",
       "</div>"
      ],
      "text/plain": [
       "     site bike_type product_id  \\\n",
       "0  jenson  mountain   BI178B01   \n",
       "1  jenson  mountain   BI001298   \n",
       "2  jenson  mountain   BI001373   \n",
       "3  jenson  mountain   BI174B07   \n",
       "4  jenson  mountain   BI001166   \n",
       "\n",
       "                                                href  \\\n",
       "0     /Evil-Wreckoning-XT-Jenson-USA-Exclusive-Build   \n",
       "1  /Evil-Following-V1-GX-Eagle-Jenson-USA-Exclusi...   \n",
       "2                  /Ibis-Ripmo-AF-NX-Eagle-Bike-2020   \n",
       "3                          /Devinci-Spartan-29-NX12S   \n",
       "4   /Niner-Rip-9-Gx-Eagle-Jenson-USA-Exclusive-Build   \n",
       "\n",
       "                                         description    brand    price  \\\n",
       "0     Evil Wreckoning  XT Jenson USA Exclusive Build     Evil  3499.99   \n",
       "1  Evil Following V1 GX Eagle Jenson USA Exclusiv...     Evil  3499.99   \n",
       "2                   Ibis Ripmo AF NX Eagle Bike 2020     Ibis  2999.00   \n",
       "3                         Devinci Spartan 29 NX 2019  Devinci  2299.99   \n",
       "4    Niner Rip 9 Gx Eagle Jenson USA Exclusive Build    Niner  2599.99   \n",
       "\n",
       "      msrp frame_material  model_year  ... handlebar_material fd_groupset  \\\n",
       "0  5800.00            NaN         NaN  ...                NaN         NaN   \n",
       "1  4844.99         carbon         NaN  ...                NaN         NaN   \n",
       "2  2999.00      aluminium      2020.0  ...          aluminium         NaN   \n",
       "3  3299.00      aluminium      2019.0  ...                NaN         NaN   \n",
       "4  4300.00      aluminium         NaN  ...                NaN         NaN   \n",
       "\n",
       "        rd_groupset cassette_groupset crankset_material crankset_groupset  \\\n",
       "0  shimano deore xt  shimano deore xt               NaN         race face   \n",
       "1           sram gx     sram gx eagle               NaN           sram gx   \n",
       "2           sram nx           sram nx             steel           sram nx   \n",
       "3           sram nx     sram gx eagle               NaN           sram gx   \n",
       "4           sram gx           sram nx               NaN           sram gx   \n",
       "\n",
       "  seatpost_material chain_groupset  shifter_groupset price_x  \n",
       "0               NaN    shimano 105  shimano deore xt     NaN  \n",
       "1               NaN        sram gx           sram gx     NaN  \n",
       "2               NaN        sram nx           sram nx     NaN  \n",
       "3               NaN        sram nx           sram nx     NaN  \n",
       "4               NaN        sram nx           sram gx     NaN  \n",
       "\n",
       "[5 rows x 22 columns]"
      ]
     },
     "execution_count": 4,
     "metadata": {},
     "output_type": "execute_result"
    }
   ],
   "source": [
    "orig_df = pd.read_csv('../data/munged_data/combined/combined_munged_01022020.csv')\n",
    "orig_df.head()"
   ]
  },
  {
   "cell_type": "markdown",
   "metadata": {},
   "source": [
    "### Quick Glance\n",
    "Let's take a quick glance to see what we're working with to get a better sense of what we're working with.\n",
    "\n",
    "#### Info\n",
    "* There are 9596 samples\n",
    "* 22 columns of which **price**, **msrp**, **price_x** and **model_year** are numeric data, everthing else is categorical.  **price_x** is a duplicate of price, so need merge into price column and drop.\n",
    "* Many of the fields have missing values; need to determine how to best handle this."
   ]
  },
  {
   "cell_type": "code",
   "execution_count": 5,
   "metadata": {},
   "outputs": [
    {
     "name": "stdout",
     "output_type": "stream",
     "text": [
      "<class 'pandas.core.frame.DataFrame'>\n",
      "RangeIndex: 9596 entries, 0 to 9595\n",
      "Data columns (total 22 columns):\n",
      "site                  9596 non-null object\n",
      "bike_type             9596 non-null object\n",
      "product_id            9596 non-null object\n",
      "href                  9596 non-null object\n",
      "description           9596 non-null object\n",
      "brand                 9596 non-null object\n",
      "price                 9194 non-null float64\n",
      "msrp                  9596 non-null float64\n",
      "frame_material        8566 non-null object\n",
      "model_year            3831 non-null float64\n",
      "brake_type            8363 non-null object\n",
      "fork_material         4617 non-null object\n",
      "handlebar_material    4734 non-null object\n",
      "fd_groupset           3356 non-null object\n",
      "rd_groupset           7483 non-null object\n",
      "cassette_groupset     7183 non-null object\n",
      "crankset_material     2493 non-null object\n",
      "crankset_groupset     5008 non-null object\n",
      "seatpost_material     4264 non-null object\n",
      "chain_groupset        4712 non-null object\n",
      "shifter_groupset      6913 non-null object\n",
      "price_x               364 non-null float64\n",
      "dtypes: float64(4), object(18)\n",
      "memory usage: 1.6+ MB\n"
     ]
    }
   ],
   "source": [
    "orig_df.info()"
   ]
  },
  {
   "cell_type": "markdown",
   "metadata": {},
   "source": [
    "##### Fill missing price data with price_x values and then drop price_x column."
   ]
  },
  {
   "cell_type": "code",
   "execution_count": 6,
   "metadata": {},
   "outputs": [
    {
     "name": "stdout",
     "output_type": "stream",
     "text": [
      "<class 'pandas.core.frame.DataFrame'>\n",
      "RangeIndex: 9596 entries, 0 to 9595\n",
      "Data columns (total 21 columns):\n",
      "site                  9596 non-null object\n",
      "bike_type             9596 non-null object\n",
      "product_id            9596 non-null object\n",
      "href                  9596 non-null object\n",
      "description           9596 non-null object\n",
      "brand                 9596 non-null object\n",
      "price                 9558 non-null float64\n",
      "msrp                  9596 non-null float64\n",
      "frame_material        8566 non-null object\n",
      "model_year            3831 non-null float64\n",
      "brake_type            8363 non-null object\n",
      "fork_material         4617 non-null object\n",
      "handlebar_material    4734 non-null object\n",
      "fd_groupset           3356 non-null object\n",
      "rd_groupset           7483 non-null object\n",
      "cassette_groupset     7183 non-null object\n",
      "crankset_material     2493 non-null object\n",
      "crankset_groupset     5008 non-null object\n",
      "seatpost_material     4264 non-null object\n",
      "chain_groupset        4712 non-null object\n",
      "shifter_groupset      6913 non-null object\n",
      "dtypes: float64(3), object(18)\n",
      "memory usage: 1.5+ MB\n"
     ]
    }
   ],
   "source": [
    "munged_df = orig_df.copy()\n",
    "munged_df.price.fillna(munged_df.price_x, inplace=True)\n",
    "munged_df = munged_df.drop('price_x', axis=1)\n",
    "munged_df.info()"
   ]
  },
  {
   "cell_type": "markdown",
   "metadata": {},
   "source": [
    "##### Fix known typo 'aluminum' with 'aluminium' for materials related columns"
   ]
  },
  {
   "cell_type": "code",
   "execution_count": 7,
   "metadata": {},
   "outputs": [],
   "source": [
    "munged_df.loc[munged_df.frame_material == 'aluminum', 'frame_material'] = 'aluminium'\n",
    "munged_df.loc[munged_df.fork_material == 'aluminum', 'fork_material'] = 'aluminium'\n",
    "munged_df.loc[munged_df.handlebar_material == 'aluminum', 'handlebar_material'] = 'aluminium'\n",
    "munged_df.loc[munged_df.crankset_material == 'aluminum', 'crankset_material'] = 'aluminium'\n",
    "munged_df.loc[munged_df.seatpost_material == 'aluminum', 'seatpost_material'] = 'aluminium'"
   ]
  },
  {
   "cell_type": "markdown",
   "metadata": {},
   "source": [
    "#### Numerical\n",
    "##### Price\n",
    "* we have values less than 0, we should look into these and possibly drop before test split\n",
    "* there seems to be few very expensive bike samples in the dataset; definitely want to ensure they're distributed in both train and test sets\n",
    "\n",
    "##### Model Year\n",
    "* range from 2013 to 2020\n",
    "* looks like most bike sample are 2019 model year, which makes sense since data was collected in 2019-2020 season"
   ]
  },
  {
   "cell_type": "code",
   "execution_count": 8,
   "metadata": {},
   "outputs": [
    {
     "data": {
      "text/plain": [
       "0    2020.0\n",
       "dtype: float64"
      ]
     },
     "execution_count": 8,
     "metadata": {},
     "output_type": "execute_result"
    }
   ],
   "source": [
    "munged_df.model_year.mode()"
   ]
  },
  {
   "cell_type": "code",
   "execution_count": 9,
   "metadata": {},
   "outputs": [
    {
     "data": {
      "text/html": [
       "<div>\n",
       "<style scoped>\n",
       "    .dataframe tbody tr th:only-of-type {\n",
       "        vertical-align: middle;\n",
       "    }\n",
       "\n",
       "    .dataframe tbody tr th {\n",
       "        vertical-align: top;\n",
       "    }\n",
       "\n",
       "    .dataframe thead th {\n",
       "        text-align: right;\n",
       "    }\n",
       "</style>\n",
       "<table border=\"1\" class=\"dataframe\">\n",
       "  <thead>\n",
       "    <tr style=\"text-align: right;\">\n",
       "      <th></th>\n",
       "      <th>price</th>\n",
       "      <th>msrp</th>\n",
       "      <th>model_year</th>\n",
       "    </tr>\n",
       "  </thead>\n",
       "  <tbody>\n",
       "    <tr>\n",
       "      <th>count</th>\n",
       "      <td>9558.000000</td>\n",
       "      <td>9596.000000</td>\n",
       "      <td>3831.000000</td>\n",
       "    </tr>\n",
       "    <tr>\n",
       "      <th>mean</th>\n",
       "      <td>2921.646361</td>\n",
       "      <td>3073.243260</td>\n",
       "      <td>2019.303576</td>\n",
       "    </tr>\n",
       "    <tr>\n",
       "      <th>std</th>\n",
       "      <td>2594.415468</td>\n",
       "      <td>2669.221096</td>\n",
       "      <td>0.858066</td>\n",
       "    </tr>\n",
       "    <tr>\n",
       "      <th>min</th>\n",
       "      <td>-1.000000</td>\n",
       "      <td>-1.000000</td>\n",
       "      <td>2013.000000</td>\n",
       "    </tr>\n",
       "    <tr>\n",
       "      <th>25%</th>\n",
       "      <td>749.990000</td>\n",
       "      <td>780.000000</td>\n",
       "      <td>2019.000000</td>\n",
       "    </tr>\n",
       "    <tr>\n",
       "      <th>50%</th>\n",
       "      <td>2200.000000</td>\n",
       "      <td>2429.000000</td>\n",
       "      <td>2019.000000</td>\n",
       "    </tr>\n",
       "    <tr>\n",
       "      <th>75%</th>\n",
       "      <td>4299.000000</td>\n",
       "      <td>4500.000000</td>\n",
       "      <td>2020.000000</td>\n",
       "    </tr>\n",
       "    <tr>\n",
       "      <th>max</th>\n",
       "      <td>16000.000000</td>\n",
       "      <td>16000.000000</td>\n",
       "      <td>2020.000000</td>\n",
       "    </tr>\n",
       "  </tbody>\n",
       "</table>\n",
       "</div>"
      ],
      "text/plain": [
       "              price          msrp   model_year\n",
       "count   9558.000000   9596.000000  3831.000000\n",
       "mean    2921.646361   3073.243260  2019.303576\n",
       "std     2594.415468   2669.221096     0.858066\n",
       "min       -1.000000     -1.000000  2013.000000\n",
       "25%      749.990000    780.000000  2019.000000\n",
       "50%     2200.000000   2429.000000  2019.000000\n",
       "75%     4299.000000   4500.000000  2020.000000\n",
       "max    16000.000000  16000.000000  2020.000000"
      ]
     },
     "execution_count": 9,
     "metadata": {},
     "output_type": "execute_result"
    }
   ],
   "source": [
    "munged_df.describe()"
   ]
  },
  {
   "cell_type": "markdown",
   "metadata": {},
   "source": [
    "### Data Cleaning\n",
    "From quick glance of the dataset, it looks like it needs a little more data cleaning before we can proceed with test set hold out. Tasks:\n",
    "1. Remove samples that missing values for all fields except \"brand\", \"price\", \"brake_type\" which have no missing values.\n",
    "2. We have prices less than zero, we should drop samples with bike prices less than a certain threshold\n",
    "3. Look at **bike_type** field and determine if we need to drop any specific values. We care primarily about adult bikes excluding bmx."
   ]
  },
  {
   "cell_type": "code",
   "execution_count": 10,
   "metadata": {},
   "outputs": [
    {
     "data": {
      "text/html": [
       "<div>\n",
       "<style scoped>\n",
       "    .dataframe tbody tr th:only-of-type {\n",
       "        vertical-align: middle;\n",
       "    }\n",
       "\n",
       "    .dataframe tbody tr th {\n",
       "        vertical-align: top;\n",
       "    }\n",
       "\n",
       "    .dataframe thead th {\n",
       "        text-align: right;\n",
       "    }\n",
       "</style>\n",
       "<table border=\"1\" class=\"dataframe\">\n",
       "  <thead>\n",
       "    <tr style=\"text-align: right;\">\n",
       "      <th></th>\n",
       "      <th>site</th>\n",
       "      <th>bike_type</th>\n",
       "      <th>product_id</th>\n",
       "      <th>href</th>\n",
       "      <th>description</th>\n",
       "      <th>brand</th>\n",
       "      <th>price</th>\n",
       "      <th>msrp</th>\n",
       "      <th>frame_material</th>\n",
       "      <th>model_year</th>\n",
       "      <th>...</th>\n",
       "      <th>fork_material</th>\n",
       "      <th>handlebar_material</th>\n",
       "      <th>fd_groupset</th>\n",
       "      <th>rd_groupset</th>\n",
       "      <th>cassette_groupset</th>\n",
       "      <th>crankset_material</th>\n",
       "      <th>crankset_groupset</th>\n",
       "      <th>seatpost_material</th>\n",
       "      <th>chain_groupset</th>\n",
       "      <th>shifter_groupset</th>\n",
       "    </tr>\n",
       "  </thead>\n",
       "  <tbody>\n",
       "    <tr>\n",
       "      <th>354</th>\n",
       "      <td>jenson</td>\n",
       "      <td>kid</td>\n",
       "      <td>BI223K01</td>\n",
       "      <td>/Strider-12-Sport-Kids-Balance-Bike</td>\n",
       "      <td>Strider 12 Sport Kids Balance Bike</td>\n",
       "      <td>Strider</td>\n",
       "      <td>109.99</td>\n",
       "      <td>119.99</td>\n",
       "      <td>NaN</td>\n",
       "      <td>NaN</td>\n",
       "      <td>...</td>\n",
       "      <td>NaN</td>\n",
       "      <td>NaN</td>\n",
       "      <td>NaN</td>\n",
       "      <td>NaN</td>\n",
       "      <td>NaN</td>\n",
       "      <td>NaN</td>\n",
       "      <td>NaN</td>\n",
       "      <td>NaN</td>\n",
       "      <td>NaN</td>\n",
       "      <td>NaN</td>\n",
       "    </tr>\n",
       "    <tr>\n",
       "      <th>355</th>\n",
       "      <td>jenson</td>\n",
       "      <td>kid</td>\n",
       "      <td>BI001267</td>\n",
       "      <td>/Strider-14x-Sport-Kids-Balance-Bike</td>\n",
       "      <td>Strider 14x Sport Kids Balance Bike</td>\n",
       "      <td>Strider</td>\n",
       "      <td>189.99</td>\n",
       "      <td>209.99</td>\n",
       "      <td>NaN</td>\n",
       "      <td>NaN</td>\n",
       "      <td>...</td>\n",
       "      <td>NaN</td>\n",
       "      <td>NaN</td>\n",
       "      <td>NaN</td>\n",
       "      <td>NaN</td>\n",
       "      <td>NaN</td>\n",
       "      <td>NaN</td>\n",
       "      <td>NaN</td>\n",
       "      <td>NaN</td>\n",
       "      <td>NaN</td>\n",
       "      <td>NaN</td>\n",
       "    </tr>\n",
       "    <tr>\n",
       "      <th>364</th>\n",
       "      <td>nashbar</td>\n",
       "      <td>gravel</td>\n",
       "      <td>1147420</td>\n",
       "      <td>https://www.nashbar.com/bombtrack-hook-2-cyclo...</td>\n",
       "      <td>Bombtrack Hook 2 Cyclocross/Gravel Bike (Black...</td>\n",
       "      <td>Bombtrack</td>\n",
       "      <td>2309.99</td>\n",
       "      <td>1999.00</td>\n",
       "      <td>NaN</td>\n",
       "      <td>NaN</td>\n",
       "      <td>...</td>\n",
       "      <td>NaN</td>\n",
       "      <td>NaN</td>\n",
       "      <td>NaN</td>\n",
       "      <td>NaN</td>\n",
       "      <td>NaN</td>\n",
       "      <td>NaN</td>\n",
       "      <td>NaN</td>\n",
       "      <td>NaN</td>\n",
       "      <td>NaN</td>\n",
       "      <td>NaN</td>\n",
       "    </tr>\n",
       "    <tr>\n",
       "      <th>365</th>\n",
       "      <td>nashbar</td>\n",
       "      <td>gravel</td>\n",
       "      <td>1151838</td>\n",
       "      <td>https://www.nashbar.com/ridley-xride-disc-riva...</td>\n",
       "      <td>Ridley X-Ride Disc Rival 1 Cyclocross Bike (Grey)</td>\n",
       "      <td>Ridley</td>\n",
       "      <td>1669.00</td>\n",
       "      <td>1399.99</td>\n",
       "      <td>NaN</td>\n",
       "      <td>NaN</td>\n",
       "      <td>...</td>\n",
       "      <td>NaN</td>\n",
       "      <td>NaN</td>\n",
       "      <td>NaN</td>\n",
       "      <td>NaN</td>\n",
       "      <td>NaN</td>\n",
       "      <td>NaN</td>\n",
       "      <td>NaN</td>\n",
       "      <td>NaN</td>\n",
       "      <td>NaN</td>\n",
       "      <td>NaN</td>\n",
       "    </tr>\n",
       "    <tr>\n",
       "      <th>382</th>\n",
       "      <td>nashbar</td>\n",
       "      <td>hybrid</td>\n",
       "      <td>1147425</td>\n",
       "      <td>https://www.nashbar.com/bombtrack-outlaw-urban...</td>\n",
       "      <td>Bombtrack Outlaw Urban Bike (Black) (650B)</td>\n",
       "      <td>Bombtrack</td>\n",
       "      <td>1498.99</td>\n",
       "      <td>1189.00</td>\n",
       "      <td>NaN</td>\n",
       "      <td>NaN</td>\n",
       "      <td>...</td>\n",
       "      <td>NaN</td>\n",
       "      <td>NaN</td>\n",
       "      <td>NaN</td>\n",
       "      <td>NaN</td>\n",
       "      <td>NaN</td>\n",
       "      <td>NaN</td>\n",
       "      <td>NaN</td>\n",
       "      <td>NaN</td>\n",
       "      <td>NaN</td>\n",
       "      <td>NaN</td>\n",
       "    </tr>\n",
       "  </tbody>\n",
       "</table>\n",
       "<p>5 rows × 21 columns</p>\n",
       "</div>"
      ],
      "text/plain": [
       "        site bike_type product_id  \\\n",
       "354   jenson       kid   BI223K01   \n",
       "355   jenson       kid   BI001267   \n",
       "364  nashbar    gravel    1147420   \n",
       "365  nashbar    gravel    1151838   \n",
       "382  nashbar    hybrid    1147425   \n",
       "\n",
       "                                                  href  \\\n",
       "354                /Strider-12-Sport-Kids-Balance-Bike   \n",
       "355               /Strider-14x-Sport-Kids-Balance-Bike   \n",
       "364  https://www.nashbar.com/bombtrack-hook-2-cyclo...   \n",
       "365  https://www.nashbar.com/ridley-xride-disc-riva...   \n",
       "382  https://www.nashbar.com/bombtrack-outlaw-urban...   \n",
       "\n",
       "                                           description      brand    price  \\\n",
       "354                 Strider 12 Sport Kids Balance Bike    Strider   109.99   \n",
       "355                Strider 14x Sport Kids Balance Bike    Strider   189.99   \n",
       "364  Bombtrack Hook 2 Cyclocross/Gravel Bike (Black...  Bombtrack  2309.99   \n",
       "365  Ridley X-Ride Disc Rival 1 Cyclocross Bike (Grey)     Ridley  1669.00   \n",
       "382         Bombtrack Outlaw Urban Bike (Black) (650B)  Bombtrack  1498.99   \n",
       "\n",
       "        msrp frame_material  model_year  ... fork_material handlebar_material  \\\n",
       "354   119.99            NaN         NaN  ...           NaN                NaN   \n",
       "355   209.99            NaN         NaN  ...           NaN                NaN   \n",
       "364  1999.00            NaN         NaN  ...           NaN                NaN   \n",
       "365  1399.99            NaN         NaN  ...           NaN                NaN   \n",
       "382  1189.00            NaN         NaN  ...           NaN                NaN   \n",
       "\n",
       "    fd_groupset rd_groupset cassette_groupset crankset_material  \\\n",
       "354         NaN         NaN               NaN               NaN   \n",
       "355         NaN         NaN               NaN               NaN   \n",
       "364         NaN         NaN               NaN               NaN   \n",
       "365         NaN         NaN               NaN               NaN   \n",
       "382         NaN         NaN               NaN               NaN   \n",
       "\n",
       "    crankset_groupset seatpost_material chain_groupset shifter_groupset  \n",
       "354               NaN               NaN            NaN              NaN  \n",
       "355               NaN               NaN            NaN              NaN  \n",
       "364               NaN               NaN            NaN              NaN  \n",
       "365               NaN               NaN            NaN              NaN  \n",
       "382               NaN               NaN            NaN              NaN  \n",
       "\n",
       "[5 rows x 21 columns]"
      ]
     },
     "execution_count": 10,
     "metadata": {},
     "output_type": "execute_result"
    }
   ],
   "source": [
    "# Identify samples with empty rows\n",
    "empty_rows_df = munged_df[(munged_df.frame_material.isnull()) & (munged_df.model_year.isnull())\n",
    "         & (munged_df.fork_material.isnull()) & (munged_df.handlebar_material.isnull())\n",
    "         & (munged_df.fd_groupset.isnull()) & (munged_df.rd_groupset.isnull())\n",
    "         & (munged_df.cassette_groupset.isnull()) & (munged_df.crankset_material.isnull())\n",
    "         & (munged_df.crankset_groupset.isnull()) & (munged_df.seatpost_material.isnull())\n",
    "         & (munged_df.chain_groupset.isnull()) & (munged_df.shifter_groupset.isnull())]\n",
    "empty_rows_df.head()"
   ]
  },
  {
   "cell_type": "code",
   "execution_count": 11,
   "metadata": {},
   "outputs": [
    {
     "name": "stdout",
     "output_type": "stream",
     "text": [
      "<class 'pandas.core.frame.DataFrame'>\n",
      "Int64Index: 261 entries, 354 to 9593\n",
      "Data columns (total 21 columns):\n",
      "site                  261 non-null object\n",
      "bike_type             261 non-null object\n",
      "product_id            261 non-null object\n",
      "href                  261 non-null object\n",
      "description           261 non-null object\n",
      "brand                 261 non-null object\n",
      "price                 261 non-null float64\n",
      "msrp                  261 non-null float64\n",
      "frame_material        0 non-null object\n",
      "model_year            0 non-null float64\n",
      "brake_type            0 non-null object\n",
      "fork_material         0 non-null object\n",
      "handlebar_material    0 non-null object\n",
      "fd_groupset           0 non-null object\n",
      "rd_groupset           0 non-null object\n",
      "cassette_groupset     0 non-null object\n",
      "crankset_material     0 non-null object\n",
      "crankset_groupset     0 non-null object\n",
      "seatpost_material     0 non-null object\n",
      "chain_groupset        0 non-null object\n",
      "shifter_groupset      0 non-null object\n",
      "dtypes: float64(3), object(18)\n",
      "memory usage: 44.9+ KB\n"
     ]
    }
   ],
   "source": [
    "# confirm they do indeed have empty values for other columns\n",
    "empty_rows_df.info()"
   ]
  },
  {
   "cell_type": "code",
   "execution_count": 12,
   "metadata": {},
   "outputs": [
    {
     "data": {
      "text/html": [
       "<div>\n",
       "<style scoped>\n",
       "    .dataframe tbody tr th:only-of-type {\n",
       "        vertical-align: middle;\n",
       "    }\n",
       "\n",
       "    .dataframe tbody tr th {\n",
       "        vertical-align: top;\n",
       "    }\n",
       "\n",
       "    .dataframe thead th {\n",
       "        text-align: right;\n",
       "    }\n",
       "</style>\n",
       "<table border=\"1\" class=\"dataframe\">\n",
       "  <thead>\n",
       "    <tr style=\"text-align: right;\">\n",
       "      <th></th>\n",
       "      <th>site</th>\n",
       "      <th>bike_type</th>\n",
       "      <th>product_id</th>\n",
       "      <th>href</th>\n",
       "      <th>description</th>\n",
       "      <th>brand</th>\n",
       "      <th>price</th>\n",
       "      <th>msrp</th>\n",
       "      <th>frame_material</th>\n",
       "      <th>model_year</th>\n",
       "      <th>...</th>\n",
       "      <th>fork_material</th>\n",
       "      <th>handlebar_material</th>\n",
       "      <th>fd_groupset</th>\n",
       "      <th>rd_groupset</th>\n",
       "      <th>cassette_groupset</th>\n",
       "      <th>crankset_material</th>\n",
       "      <th>crankset_groupset</th>\n",
       "      <th>seatpost_material</th>\n",
       "      <th>chain_groupset</th>\n",
       "      <th>shifter_groupset</th>\n",
       "    </tr>\n",
       "  </thead>\n",
       "  <tbody>\n",
       "    <tr>\n",
       "      <th>374</th>\n",
       "      <td>nashbar</td>\n",
       "      <td>hybrid</td>\n",
       "      <td>915795</td>\n",
       "      <td>https://www.nashbar.com/tuesday-june-7-24-wome...</td>\n",
       "      <td>Tuesday June 7 24\" Women's Cruiser (Blue)</td>\n",
       "      <td>Tuesday</td>\n",
       "      <td>NaN</td>\n",
       "      <td>0.0</td>\n",
       "      <td>steel</td>\n",
       "      <td>NaN</td>\n",
       "      <td>...</td>\n",
       "      <td>steel</td>\n",
       "      <td>steel</td>\n",
       "      <td>NaN</td>\n",
       "      <td>shimano tourney</td>\n",
       "      <td>shimano tourney</td>\n",
       "      <td>steel</td>\n",
       "      <td>NaN</td>\n",
       "      <td>steel</td>\n",
       "      <td>NaN</td>\n",
       "      <td>shimano 7-speed</td>\n",
       "    </tr>\n",
       "    <tr>\n",
       "      <th>378</th>\n",
       "      <td>nashbar</td>\n",
       "      <td>hybrid</td>\n",
       "      <td>915798</td>\n",
       "      <td>https://www.nashbar.com/tuesday-june-1-womens-...</td>\n",
       "      <td>Tuesday June 1 Women's Cruiser (White)</td>\n",
       "      <td>Tuesday</td>\n",
       "      <td>NaN</td>\n",
       "      <td>0.0</td>\n",
       "      <td>steel</td>\n",
       "      <td>NaN</td>\n",
       "      <td>...</td>\n",
       "      <td>steel</td>\n",
       "      <td>steel</td>\n",
       "      <td>NaN</td>\n",
       "      <td>NaN</td>\n",
       "      <td>single speed</td>\n",
       "      <td>steel</td>\n",
       "      <td>NaN</td>\n",
       "      <td>steel</td>\n",
       "      <td>NaN</td>\n",
       "      <td>NaN</td>\n",
       "    </tr>\n",
       "    <tr>\n",
       "      <th>379</th>\n",
       "      <td>nashbar</td>\n",
       "      <td>hybrid</td>\n",
       "      <td>945064</td>\n",
       "      <td>https://www.nashbar.com/tuesday-june-7-womens-...</td>\n",
       "      <td>Tuesday June 7 Women's Cruiser Bike (Vintage W...</td>\n",
       "      <td>Tuesday</td>\n",
       "      <td>NaN</td>\n",
       "      <td>0.0</td>\n",
       "      <td>steel</td>\n",
       "      <td>NaN</td>\n",
       "      <td>...</td>\n",
       "      <td>steel</td>\n",
       "      <td>steel</td>\n",
       "      <td>NaN</td>\n",
       "      <td>shimano tourney</td>\n",
       "      <td>shimano tourney</td>\n",
       "      <td>steel</td>\n",
       "      <td>NaN</td>\n",
       "      <td>steel</td>\n",
       "      <td>NaN</td>\n",
       "      <td>shimano 7-speed</td>\n",
       "    </tr>\n",
       "    <tr>\n",
       "      <th>384</th>\n",
       "      <td>nashbar</td>\n",
       "      <td>hybrid</td>\n",
       "      <td>915800</td>\n",
       "      <td>https://www.nashbar.com/tuesday-may-1-mens-cru...</td>\n",
       "      <td>Tuesday May 1 Men's Cruiser Bike (Black)</td>\n",
       "      <td>Tuesday</td>\n",
       "      <td>NaN</td>\n",
       "      <td>0.0</td>\n",
       "      <td>steel</td>\n",
       "      <td>NaN</td>\n",
       "      <td>...</td>\n",
       "      <td>steel</td>\n",
       "      <td>steel</td>\n",
       "      <td>NaN</td>\n",
       "      <td>NaN</td>\n",
       "      <td>single speed</td>\n",
       "      <td>steel</td>\n",
       "      <td>NaN</td>\n",
       "      <td>steel</td>\n",
       "      <td>NaN</td>\n",
       "      <td>NaN</td>\n",
       "    </tr>\n",
       "    <tr>\n",
       "      <th>386</th>\n",
       "      <td>nashbar</td>\n",
       "      <td>hybrid</td>\n",
       "      <td>945069</td>\n",
       "      <td>https://www.nashbar.com/tuesday-august-7-women...</td>\n",
       "      <td>Tuesday August 7 Women's Cruiser Bike (Blush P...</td>\n",
       "      <td>Tuesday</td>\n",
       "      <td>NaN</td>\n",
       "      <td>0.0</td>\n",
       "      <td>aluminium</td>\n",
       "      <td>NaN</td>\n",
       "      <td>...</td>\n",
       "      <td>steel</td>\n",
       "      <td>alloy</td>\n",
       "      <td>NaN</td>\n",
       "      <td>shimano tourney</td>\n",
       "      <td>shimano tourney</td>\n",
       "      <td>alloy</td>\n",
       "      <td>NaN</td>\n",
       "      <td>alloy</td>\n",
       "      <td>NaN</td>\n",
       "      <td>shimano 7-speed</td>\n",
       "    </tr>\n",
       "  </tbody>\n",
       "</table>\n",
       "<p>5 rows × 21 columns</p>\n",
       "</div>"
      ],
      "text/plain": [
       "        site bike_type product_id  \\\n",
       "374  nashbar    hybrid     915795   \n",
       "378  nashbar    hybrid     915798   \n",
       "379  nashbar    hybrid     945064   \n",
       "384  nashbar    hybrid     915800   \n",
       "386  nashbar    hybrid     945069   \n",
       "\n",
       "                                                  href  \\\n",
       "374  https://www.nashbar.com/tuesday-june-7-24-wome...   \n",
       "378  https://www.nashbar.com/tuesday-june-1-womens-...   \n",
       "379  https://www.nashbar.com/tuesday-june-7-womens-...   \n",
       "384  https://www.nashbar.com/tuesday-may-1-mens-cru...   \n",
       "386  https://www.nashbar.com/tuesday-august-7-women...   \n",
       "\n",
       "                                           description    brand  price  msrp  \\\n",
       "374          Tuesday June 7 24\" Women's Cruiser (Blue)  Tuesday    NaN   0.0   \n",
       "378             Tuesday June 1 Women's Cruiser (White)  Tuesday    NaN   0.0   \n",
       "379  Tuesday June 7 Women's Cruiser Bike (Vintage W...  Tuesday    NaN   0.0   \n",
       "384           Tuesday May 1 Men's Cruiser Bike (Black)  Tuesday    NaN   0.0   \n",
       "386  Tuesday August 7 Women's Cruiser Bike (Blush P...  Tuesday    NaN   0.0   \n",
       "\n",
       "    frame_material  model_year  ... fork_material handlebar_material  \\\n",
       "374          steel         NaN  ...         steel              steel   \n",
       "378          steel         NaN  ...         steel              steel   \n",
       "379          steel         NaN  ...         steel              steel   \n",
       "384          steel         NaN  ...         steel              steel   \n",
       "386      aluminium         NaN  ...         steel              alloy   \n",
       "\n",
       "    fd_groupset      rd_groupset cassette_groupset crankset_material  \\\n",
       "374         NaN  shimano tourney   shimano tourney             steel   \n",
       "378         NaN              NaN      single speed             steel   \n",
       "379         NaN  shimano tourney   shimano tourney             steel   \n",
       "384         NaN              NaN      single speed             steel   \n",
       "386         NaN  shimano tourney   shimano tourney             alloy   \n",
       "\n",
       "    crankset_groupset seatpost_material chain_groupset shifter_groupset  \n",
       "374               NaN             steel            NaN  shimano 7-speed  \n",
       "378               NaN             steel            NaN              NaN  \n",
       "379               NaN             steel            NaN  shimano 7-speed  \n",
       "384               NaN             steel            NaN              NaN  \n",
       "386               NaN             alloy            NaN  shimano 7-speed  \n",
       "\n",
       "[5 rows x 21 columns]"
      ]
     },
     "execution_count": 12,
     "metadata": {},
     "output_type": "execute_result"
    }
   ],
   "source": [
    "# Identify products with prices less than or equal to 0 or null\n",
    "low_price_df = munged_df[(munged_df.price <= 0) | (munged_df.price.isnull())]\n",
    "low_price_df.head()"
   ]
  },
  {
   "cell_type": "code",
   "execution_count": 13,
   "metadata": {},
   "outputs": [
    {
     "data": {
      "text/plain": [
       "mountain       3853\n",
       "road           2345\n",
       "hybrid          482\n",
       "electric        353\n",
       "commuter        338\n",
       "bmx             330\n",
       "kid             272\n",
       "gravel          253\n",
       "childrens       195\n",
       "pavement        186\n",
       "cyclocross      176\n",
       "fitness         164\n",
       "cruiser         123\n",
       "comfort         123\n",
       "other           122\n",
       "youth_bikes     105\n",
       "urban            35\n",
       "specialty        33\n",
       "adventure        31\n",
       "touring          23\n",
       "singlespeed      13\n",
       "triathlon        11\n",
       "time_trial        9\n",
       "ebikes            6\n",
       "track             5\n",
       "dirt_jump         5\n",
       "ebike             3\n",
       "fat               2\n",
       "Name: bike_type, dtype: int64"
      ]
     },
     "execution_count": 13,
     "metadata": {},
     "output_type": "execute_result"
    }
   ],
   "source": [
    "# Identify bike_type values that should be dropped\n",
    "munged_df.bike_type.value_counts()"
   ]
  },
  {
   "cell_type": "code",
   "execution_count": 14,
   "metadata": {},
   "outputs": [
    {
     "data": {
      "text/html": [
       "<div>\n",
       "<style scoped>\n",
       "    .dataframe tbody tr th:only-of-type {\n",
       "        vertical-align: middle;\n",
       "    }\n",
       "\n",
       "    .dataframe tbody tr th {\n",
       "        vertical-align: top;\n",
       "    }\n",
       "\n",
       "    .dataframe thead th {\n",
       "        text-align: right;\n",
       "    }\n",
       "</style>\n",
       "<table border=\"1\" class=\"dataframe\">\n",
       "  <thead>\n",
       "    <tr style=\"text-align: right;\">\n",
       "      <th></th>\n",
       "      <th>site</th>\n",
       "      <th>bike_type</th>\n",
       "      <th>product_id</th>\n",
       "      <th>href</th>\n",
       "      <th>description</th>\n",
       "      <th>brand</th>\n",
       "      <th>price</th>\n",
       "      <th>msrp</th>\n",
       "      <th>frame_material</th>\n",
       "      <th>model_year</th>\n",
       "      <th>...</th>\n",
       "      <th>fork_material</th>\n",
       "      <th>handlebar_material</th>\n",
       "      <th>fd_groupset</th>\n",
       "      <th>rd_groupset</th>\n",
       "      <th>cassette_groupset</th>\n",
       "      <th>crankset_material</th>\n",
       "      <th>crankset_groupset</th>\n",
       "      <th>seatpost_material</th>\n",
       "      <th>chain_groupset</th>\n",
       "      <th>shifter_groupset</th>\n",
       "    </tr>\n",
       "  </thead>\n",
       "  <tbody>\n",
       "    <tr>\n",
       "      <th>346</th>\n",
       "      <td>jenson</td>\n",
       "      <td>kid</td>\n",
       "      <td>BI001452</td>\n",
       "      <td>/Liv-Adore-CB-12-Bike-2020</td>\n",
       "      <td>Liv Adore C/B 12 Bike 2020</td>\n",
       "      <td>Liv</td>\n",
       "      <td>210.00</td>\n",
       "      <td>210.00</td>\n",
       "      <td>aluminium</td>\n",
       "      <td>2020.0</td>\n",
       "      <td>...</td>\n",
       "      <td>steel</td>\n",
       "      <td>NaN</td>\n",
       "      <td>NaN</td>\n",
       "      <td>NaN</td>\n",
       "      <td>NaN</td>\n",
       "      <td>steel</td>\n",
       "      <td>NaN</td>\n",
       "      <td>alloy</td>\n",
       "      <td>NaN</td>\n",
       "      <td>NaN</td>\n",
       "    </tr>\n",
       "    <tr>\n",
       "      <th>347</th>\n",
       "      <td>jenson</td>\n",
       "      <td>kid</td>\n",
       "      <td>BI001190</td>\n",
       "      <td>/Marin-Hawk-Hill-Jr-24-Bike-2020</td>\n",
       "      <td>Marin Hawk Hill Jr 24\" Bike 2020</td>\n",
       "      <td>Marin</td>\n",
       "      <td>1499.99</td>\n",
       "      <td>1599.99</td>\n",
       "      <td>aluminium</td>\n",
       "      <td>2020.0</td>\n",
       "      <td>...</td>\n",
       "      <td>NaN</td>\n",
       "      <td>aluminium</td>\n",
       "      <td>NaN</td>\n",
       "      <td>shimano deore</td>\n",
       "      <td>sunrace</td>\n",
       "      <td>steel</td>\n",
       "      <td>sram x1</td>\n",
       "      <td>alloy</td>\n",
       "      <td>sram x1</td>\n",
       "      <td>microshift</td>\n",
       "    </tr>\n",
       "    <tr>\n",
       "      <th>348</th>\n",
       "      <td>jenson</td>\n",
       "      <td>kid</td>\n",
       "      <td>BI001449</td>\n",
       "      <td>/Giant-Animator-CB-12-Bike-2020</td>\n",
       "      <td>Giant Animator C/B 12 Bike 2020</td>\n",
       "      <td>Giant</td>\n",
       "      <td>210.00</td>\n",
       "      <td>210.00</td>\n",
       "      <td>aluminium</td>\n",
       "      <td>2020.0</td>\n",
       "      <td>...</td>\n",
       "      <td>steel</td>\n",
       "      <td>NaN</td>\n",
       "      <td>NaN</td>\n",
       "      <td>NaN</td>\n",
       "      <td>NaN</td>\n",
       "      <td>alloy</td>\n",
       "      <td>NaN</td>\n",
       "      <td>alloy</td>\n",
       "      <td>NaN</td>\n",
       "      <td>NaN</td>\n",
       "    </tr>\n",
       "    <tr>\n",
       "      <th>349</th>\n",
       "      <td>jenson</td>\n",
       "      <td>kid</td>\n",
       "      <td>BI001323</td>\n",
       "      <td>/Marin-Bayview-Trail-24-Disc-Bike-2020</td>\n",
       "      <td>Marin Bayview Trail 24\" Disc Bike 2020</td>\n",
       "      <td>Marin</td>\n",
       "      <td>419.99</td>\n",
       "      <td>419.99</td>\n",
       "      <td>aluminium</td>\n",
       "      <td>2020.0</td>\n",
       "      <td>...</td>\n",
       "      <td>NaN</td>\n",
       "      <td>NaN</td>\n",
       "      <td>NaN</td>\n",
       "      <td>shimano altus</td>\n",
       "      <td>shimano tourney</td>\n",
       "      <td>alloy</td>\n",
       "      <td>NaN</td>\n",
       "      <td>alloy</td>\n",
       "      <td>NaN</td>\n",
       "      <td>shimano 7-speed</td>\n",
       "    </tr>\n",
       "    <tr>\n",
       "      <th>350</th>\n",
       "      <td>jenson</td>\n",
       "      <td>kid</td>\n",
       "      <td>BI001451</td>\n",
       "      <td>/Liv-Adore-CB-16-Bike-2020</td>\n",
       "      <td>Liv Adore C/B 16 Bike 2020</td>\n",
       "      <td>Liv</td>\n",
       "      <td>230.00</td>\n",
       "      <td>230.00</td>\n",
       "      <td>aluminium</td>\n",
       "      <td>2020.0</td>\n",
       "      <td>...</td>\n",
       "      <td>steel</td>\n",
       "      <td>NaN</td>\n",
       "      <td>NaN</td>\n",
       "      <td>NaN</td>\n",
       "      <td>NaN</td>\n",
       "      <td>steel</td>\n",
       "      <td>NaN</td>\n",
       "      <td>alloy</td>\n",
       "      <td>NaN</td>\n",
       "      <td>NaN</td>\n",
       "    </tr>\n",
       "  </tbody>\n",
       "</table>\n",
       "<p>5 rows × 21 columns</p>\n",
       "</div>"
      ],
      "text/plain": [
       "       site bike_type product_id                                    href  \\\n",
       "346  jenson       kid   BI001452              /Liv-Adore-CB-12-Bike-2020   \n",
       "347  jenson       kid   BI001190        /Marin-Hawk-Hill-Jr-24-Bike-2020   \n",
       "348  jenson       kid   BI001449         /Giant-Animator-CB-12-Bike-2020   \n",
       "349  jenson       kid   BI001323  /Marin-Bayview-Trail-24-Disc-Bike-2020   \n",
       "350  jenson       kid   BI001451              /Liv-Adore-CB-16-Bike-2020   \n",
       "\n",
       "                                description  brand    price     msrp  \\\n",
       "346              Liv Adore C/B 12 Bike 2020    Liv   210.00   210.00   \n",
       "347        Marin Hawk Hill Jr 24\" Bike 2020  Marin  1499.99  1599.99   \n",
       "348         Giant Animator C/B 12 Bike 2020  Giant   210.00   210.00   \n",
       "349  Marin Bayview Trail 24\" Disc Bike 2020  Marin   419.99   419.99   \n",
       "350              Liv Adore C/B 16 Bike 2020    Liv   230.00   230.00   \n",
       "\n",
       "    frame_material  model_year  ... fork_material handlebar_material  \\\n",
       "346      aluminium      2020.0  ...         steel                NaN   \n",
       "347      aluminium      2020.0  ...           NaN          aluminium   \n",
       "348      aluminium      2020.0  ...         steel                NaN   \n",
       "349      aluminium      2020.0  ...           NaN                NaN   \n",
       "350      aluminium      2020.0  ...         steel                NaN   \n",
       "\n",
       "    fd_groupset    rd_groupset cassette_groupset crankset_material  \\\n",
       "346         NaN            NaN               NaN             steel   \n",
       "347         NaN  shimano deore           sunrace             steel   \n",
       "348         NaN            NaN               NaN             alloy   \n",
       "349         NaN  shimano altus   shimano tourney             alloy   \n",
       "350         NaN            NaN               NaN             steel   \n",
       "\n",
       "    crankset_groupset seatpost_material chain_groupset shifter_groupset  \n",
       "346               NaN             alloy            NaN              NaN  \n",
       "347           sram x1             alloy        sram x1       microshift  \n",
       "348               NaN             alloy            NaN              NaN  \n",
       "349               NaN             alloy            NaN  shimano 7-speed  \n",
       "350               NaN             alloy            NaN              NaN  \n",
       "\n",
       "[5 rows x 21 columns]"
      ]
     },
     "execution_count": 14,
     "metadata": {},
     "output_type": "execute_result"
    }
   ],
   "source": [
    "# Drop bmx, kid, chidren's, and youth_bikes bikes and focus on adult bikes only\n",
    "non_adult_df = munged_df[(munged_df.bike_type == 'bmx') | (munged_df.bike_type == 'kid')\n",
    "                        | (munged_df.bike_type == 'childrens') | (munged_df.bike_type == 'youth_bikes')]\n",
    "non_adult_df.head()"
   ]
  },
  {
   "cell_type": "code",
   "execution_count": 15,
   "metadata": {},
   "outputs": [
    {
     "name": "stdout",
     "output_type": "stream",
     "text": [
      "There are 1232 samples to be dropped.\n",
      "There should be 8364 samles left afterwards.\n",
      "There are now 8364 samples remaining.\n"
     ]
    }
   ],
   "source": [
    "# Create dataframe without dropped rows\n",
    "drop_list = empty_rows_df.index.tolist() + low_price_df.index.tolist() + non_adult_df.index.tolist()\n",
    "drop_list = set(drop_list)  # remove dupes\n",
    "drop_count = len(drop_list)\n",
    "print(f'There are {drop_count} samples to be dropped.')\n",
    "print(f'There should be {len(munged_df) - drop_count} samles left afterwards.')\n",
    "data_df = munged_df.drop(drop_list)\n",
    "print(f'There are now {len(data_df)} samples remaining.')"
   ]
  },
  {
   "cell_type": "code",
   "execution_count": 16,
   "metadata": {},
   "outputs": [
    {
     "data": {
      "text/plain": [
       "mountain       3689\n",
       "road           2277\n",
       "hybrid          451\n",
       "electric        350\n",
       "commuter        320\n",
       "gravel          251\n",
       "pavement        182\n",
       "cyclocross      170\n",
       "fitness         163\n",
       "comfort         116\n",
       "other           115\n",
       "cruiser         111\n",
       "urban            35\n",
       "specialty        33\n",
       "adventure        31\n",
       "touring          23\n",
       "triathlon        11\n",
       "time_trial        9\n",
       "ebikes            6\n",
       "singlespeed       6\n",
       "dirt_jump         5\n",
       "track             5\n",
       "ebike             3\n",
       "fat               2\n",
       "Name: bike_type, dtype: int64"
      ]
     },
     "execution_count": 16,
     "metadata": {},
     "output_type": "execute_result"
    }
   ],
   "source": [
    "data_df.bike_type.value_counts()"
   ]
  },
  {
   "cell_type": "code",
   "execution_count": 17,
   "metadata": {},
   "outputs": [
    {
     "name": "stdout",
     "output_type": "stream",
     "text": [
      "<class 'pandas.core.frame.DataFrame'>\n",
      "Int64Index: 8364 entries, 0 to 9576\n",
      "Data columns (total 21 columns):\n",
      "site                  8364 non-null object\n",
      "bike_type             8364 non-null object\n",
      "product_id            8364 non-null object\n",
      "href                  8364 non-null object\n",
      "description           8364 non-null object\n",
      "brand                 8364 non-null object\n",
      "price                 8364 non-null float64\n",
      "msrp                  8364 non-null float64\n",
      "frame_material        7750 non-null object\n",
      "model_year            3436 non-null float64\n",
      "brake_type            7548 non-null object\n",
      "fork_material         3994 non-null object\n",
      "handlebar_material    4089 non-null object\n",
      "fd_groupset           3247 non-null object\n",
      "rd_groupset           7087 non-null object\n",
      "cassette_groupset     6757 non-null object\n",
      "crankset_material     1938 non-null object\n",
      "crankset_groupset     4830 non-null object\n",
      "seatpost_material     3761 non-null object\n",
      "chain_groupset        4499 non-null object\n",
      "shifter_groupset      6541 non-null object\n",
      "dtypes: float64(3), object(18)\n",
      "memory usage: 1.4+ MB\n"
     ]
    }
   ],
   "source": [
    "data_df.info()"
   ]
  },
  {
   "cell_type": "code",
   "execution_count": 18,
   "metadata": {},
   "outputs": [
    {
     "data": {
      "text/html": [
       "<div>\n",
       "<style scoped>\n",
       "    .dataframe tbody tr th:only-of-type {\n",
       "        vertical-align: middle;\n",
       "    }\n",
       "\n",
       "    .dataframe tbody tr th {\n",
       "        vertical-align: top;\n",
       "    }\n",
       "\n",
       "    .dataframe thead th {\n",
       "        text-align: right;\n",
       "    }\n",
       "</style>\n",
       "<table border=\"1\" class=\"dataframe\">\n",
       "  <thead>\n",
       "    <tr style=\"text-align: right;\">\n",
       "      <th></th>\n",
       "      <th>price</th>\n",
       "      <th>msrp</th>\n",
       "      <th>model_year</th>\n",
       "    </tr>\n",
       "  </thead>\n",
       "  <tbody>\n",
       "    <tr>\n",
       "      <th>count</th>\n",
       "      <td>8364.000000</td>\n",
       "      <td>8364.000000</td>\n",
       "      <td>3436.000000</td>\n",
       "    </tr>\n",
       "    <tr>\n",
       "      <th>mean</th>\n",
       "      <td>3276.906871</td>\n",
       "      <td>3457.182098</td>\n",
       "      <td>2019.275029</td>\n",
       "    </tr>\n",
       "    <tr>\n",
       "      <th>std</th>\n",
       "      <td>2573.979549</td>\n",
       "      <td>2637.610336</td>\n",
       "      <td>0.867847</td>\n",
       "    </tr>\n",
       "    <tr>\n",
       "      <th>min</th>\n",
       "      <td>109.990000</td>\n",
       "      <td>109.990000</td>\n",
       "      <td>2013.000000</td>\n",
       "    </tr>\n",
       "    <tr>\n",
       "      <th>25%</th>\n",
       "      <td>1150.000000</td>\n",
       "      <td>1200.000000</td>\n",
       "      <td>2019.000000</td>\n",
       "    </tr>\n",
       "    <tr>\n",
       "      <th>50%</th>\n",
       "      <td>2699.000000</td>\n",
       "      <td>2940.000000</td>\n",
       "      <td>2019.000000</td>\n",
       "    </tr>\n",
       "    <tr>\n",
       "      <th>75%</th>\n",
       "      <td>4520.000000</td>\n",
       "      <td>4974.990000</td>\n",
       "      <td>2020.000000</td>\n",
       "    </tr>\n",
       "    <tr>\n",
       "      <th>max</th>\n",
       "      <td>16000.000000</td>\n",
       "      <td>16000.000000</td>\n",
       "      <td>2020.000000</td>\n",
       "    </tr>\n",
       "  </tbody>\n",
       "</table>\n",
       "</div>"
      ],
      "text/plain": [
       "              price          msrp   model_year\n",
       "count   8364.000000   8364.000000  3436.000000\n",
       "mean    3276.906871   3457.182098  2019.275029\n",
       "std     2573.979549   2637.610336     0.867847\n",
       "min      109.990000    109.990000  2013.000000\n",
       "25%     1150.000000   1200.000000  2019.000000\n",
       "50%     2699.000000   2940.000000  2019.000000\n",
       "75%     4520.000000   4974.990000  2020.000000\n",
       "max    16000.000000  16000.000000  2020.000000"
      ]
     },
     "execution_count": 18,
     "metadata": {},
     "output_type": "execute_result"
    }
   ],
   "source": [
    "data_df.describe()"
   ]
  },
  {
   "cell_type": "markdown",
   "metadata": {},
   "source": [
    "## Train Test Split\n",
    "Implement \"stratified\" split for this regression data. By doing so, the hope is to get a more reliable (lower bias and variance) estimate of model performance. Using regular random split on the dataset is likely to naturally introduce bias into the data or unintentionally exclude data points, and thus affect model performance. Using stratification during model selection produces better results because the validation set(s) more accurately represent the task we need to solve. If one class is hard to predict, we won’t have more of them (artificially hindering the performance metric) or less (assisting performance) if we use stratification.\n",
    "\n",
    "#### Sorted Stratification\n",
    "Since this a regression task and not classification, we need a method to define the \"classification\" sets of the data so we can ensure similar distribution of the target variable in both the train and test sets. The following approach will be used to achieve this:\n",
    "1. Sort the samples on the target variable\n",
    "2. Categorize samples into *k* partitions (or \"classes\") depending on test size needed\n",
    "3. Utilize sklearn's \"StratifiedShuffleSplit\" to generate train vs test split\n",
    "\n",
    "Alternative approach is to categorize samples by **bike_type** to ensure similar distribution of bike types between train and test sets. Categorizing by target variable is most likely the best since that is what we're predicting for. The latter might introduce other biases that we're unaware."
   ]
  },
  {
   "cell_type": "code",
   "execution_count": 19,
   "metadata": {},
   "outputs": [],
   "source": [
    "# Set random state for reproducibility purposes\n",
    "RAND_STATE = 42"
   ]
  },
  {
   "cell_type": "code",
   "execution_count": 20,
   "metadata": {},
   "outputs": [
    {
     "data": {
      "text/plain": [
       "0    6\n",
       "1    6\n",
       "2    5\n",
       "3    4\n",
       "4    4\n",
       "Name: price, dtype: category\n",
       "Categories (10, int64): [0 < 1 < 2 < 3 ... 6 < 7 < 8 < 9]"
      ]
     },
     "execution_count": 20,
     "metadata": {},
     "output_type": "execute_result"
    }
   ],
   "source": [
    "# We can simplify steps 1 and 2 by help of pandas.qcut method\n",
    "price_cats = pd.qcut(x=data_df.price, q=10, labels=range(10))\n",
    "price_cats.head()"
   ]
  },
  {
   "cell_type": "code",
   "execution_count": 21,
   "metadata": {},
   "outputs": [
    {
     "name": "stdout",
     "output_type": "stream",
     "text": [
      "Num train samples: 6691\n",
      "Num test samples: 1673\n"
     ]
    }
   ],
   "source": [
    "# Generate shuffled train and test indices\n",
    "train_idx, test_idx = next(\n",
    "    StratifiedShuffleSplit(n_splits=1, test_size=0.20, random_state=RAND_STATE).split(\n",
    "        X=price_cats, y=price_cats\n",
    "    )\n",
    ")\n",
    "print(f'Num train samples: {len(train_idx)}\\nNum test samples: {len(test_idx)}')"
   ]
  },
  {
   "cell_type": "code",
   "execution_count": 22,
   "metadata": {},
   "outputs": [
    {
     "name": "stdout",
     "output_type": "stream",
     "text": [
      "train shape: (6691, 21)\n",
      "test shape: (1673, 21)\n"
     ]
    }
   ],
   "source": [
    "# Get train and test datasets\n",
    "train_df = data_df.iloc[train_idx].copy()\n",
    "test_df = data_df.iloc[test_idx].copy()  # Hold-out set\n",
    "\n",
    "# Verify dimensions\n",
    "print(f'train shape: {train_df.shape}\\ntest shape: {test_df.shape}')"
   ]
  },
  {
   "cell_type": "markdown",
   "metadata": {},
   "source": [
    "## Train Data Exploration and Feature Engineering\n",
    "The data has many categorical fields. The first step is see how we can transform them into useful numerical fields. This will involving some one-hot encoding and identifying rankable values.\n",
    "\n",
    "**price** and **model_year** are already numerical. Price is the target variable, so we won't directly touch this since we don't want to include it as a feature else we will be indirectly including what we want to predict as feature.\n",
    "\n",
    "Let's look at each of the remaining categorical fields to see how best to utilize or whether to just drop them. Model year has some missing valaues so we will need to decide how we want to handle those missing values."
   ]
  },
  {
   "cell_type": "code",
   "execution_count": 23,
   "metadata": {},
   "outputs": [
    {
     "name": "stdout",
     "output_type": "stream",
     "text": [
      "<class 'pandas.core.frame.DataFrame'>\n",
      "Int64Index: 6691 entries, 4958 to 9547\n",
      "Data columns (total 21 columns):\n",
      "site                  6691 non-null object\n",
      "bike_type             6691 non-null object\n",
      "product_id            6691 non-null object\n",
      "href                  6691 non-null object\n",
      "description           6691 non-null object\n",
      "brand                 6691 non-null object\n",
      "price                 6691 non-null float64\n",
      "msrp                  6691 non-null float64\n",
      "frame_material        6210 non-null object\n",
      "model_year            2792 non-null float64\n",
      "brake_type            6050 non-null object\n",
      "fork_material         3179 non-null object\n",
      "handlebar_material    3299 non-null object\n",
      "fd_groupset           2597 non-null object\n",
      "rd_groupset           5694 non-null object\n",
      "cassette_groupset     5423 non-null object\n",
      "crankset_material     1556 non-null object\n",
      "crankset_groupset     3903 non-null object\n",
      "seatpost_material     3001 non-null object\n",
      "chain_groupset        3597 non-null object\n",
      "shifter_groupset      5252 non-null object\n",
      "dtypes: float64(3), object(18)\n",
      "memory usage: 1.1+ MB\n"
     ]
    }
   ],
   "source": [
    "train_df.info()"
   ]
  },
  {
   "cell_type": "markdown",
   "metadata": {},
   "source": [
    "#### Frame Material\n",
    "There are 1418 non-null samples. Looking at value counts, we see majority of frame material are either carbon or aluminium/alloy material. This is typical of what you would expect, majority of bikes this day are primarily aluminium or some alloy and for top-end there's a high demand for carbon due to its lightness and stiffness. The average price per frame material confirms this. Carbon frame bikes are considerably more expensive than aluminium or alloy frame bikes. Titanium also seems to garner higher price but we only have two samples represented in train dataset so we should consider trying to get more data for such bikes.\n",
    "\n",
    "Since carbon and titanium seem to have a strong relationship to price, the best approach for this categorical data is to implement one-hot encoding for carbon frame material. The same will be done for titanium in preparation for when more data is collected. After doing some further research, titanium seems to be an upcoming frame material for similar reasons as carbon but less fragile."
   ]
  },
  {
   "cell_type": "code",
   "execution_count": 24,
   "metadata": {},
   "outputs": [
    {
     "name": "stdout",
     "output_type": "stream",
     "text": [
      "carbon       2775\n",
      "aluminium    2090\n",
      "alloy         909\n",
      "chromoly      271\n",
      "steel         117\n",
      "titanium       48\n",
      "Name: frame_material, dtype: int64\n"
     ]
    },
    {
     "data": {
      "text/plain": [
       "frame_material\n",
       "alloy        2016.128119\n",
       "aluminium    1781.872311\n",
       "carbon       4948.591946\n",
       "chromoly     1326.294613\n",
       "steel        1513.832222\n",
       "titanium     3751.687500\n",
       "Name: price, dtype: float64"
      ]
     },
     "execution_count": 24,
     "metadata": {},
     "output_type": "execute_result"
    }
   ],
   "source": [
    "print(train_df.frame_material.value_counts())\n",
    "grouped = train_df.groupby('frame_material')\n",
    "grouped['price'].mean()"
   ]
  },
  {
   "cell_type": "code",
   "execution_count": 25,
   "metadata": {},
   "outputs": [
    {
     "data": {
      "text/plain": [
       "<matplotlib.axes._subplots.AxesSubplot at 0x7f9863537be0>"
      ]
     },
     "execution_count": 25,
     "metadata": {},
     "output_type": "execute_result"
    },
    {
     "data": {
      "image/png": "[encoded data removed]",
      "text/plain": [
       "<Figure size 432x288 with 1 Axes>"
      ]
     },
     "metadata": {
      "needs_background": "light"
     },
     "output_type": "display_data"
    }
   ],
   "source": [
    "sns.boxplot(x=train_df.frame_material, y=train_df.price)"
   ]
  },
  {
   "cell_type": "code",
   "execution_count": 26,
   "metadata": {},
   "outputs": [
    {
     "data": {
      "text/plain": [
       "0    3916\n",
       "1    2775\n",
       "Name: carbon_frame, dtype: int64"
      ]
     },
     "execution_count": 26,
     "metadata": {},
     "output_type": "execute_result"
    }
   ],
   "source": [
    "train_df['carbon_frame'] = train_df.frame_material.apply(lambda x: 1 if x == 'carbon' else 0)\n",
    "train_df.carbon_frame.value_counts()"
   ]
  },
  {
   "cell_type": "code",
   "execution_count": 27,
   "metadata": {},
   "outputs": [
    {
     "data": {
      "text/plain": [
       "0    6643\n",
       "1      48\n",
       "Name: titanium_frame, dtype: int64"
      ]
     },
     "execution_count": 27,
     "metadata": {},
     "output_type": "execute_result"
    }
   ],
   "source": [
    "train_df['titanium_frame'] = train_df.frame_material.map(lambda x: 1 if x == 'titanium' else 0)\n",
    "train_df.titanium_frame.value_counts()"
   ]
  },
  {
   "cell_type": "markdown",
   "metadata": {},
   "source": [
    "#### Other Material Categorical Fields\n",
    "Except for fork material, we see that carbon material continues to have a strong relationship to price for other material based fields. So we will implement similar one-hot encoding to extract numerical features for these fields."
   ]
  },
  {
   "cell_type": "code",
   "execution_count": 28,
   "metadata": {},
   "outputs": [
    {
     "name": "stdout",
     "output_type": "stream",
     "text": [
      "alloy        2161\n",
      "carbon        818\n",
      "aluminium     281\n",
      "steel          38\n",
      "chromoly        1\n",
      "Name: handlebar_material, dtype: int64\n"
     ]
    },
    {
     "data": {
      "text/plain": [
       "handlebar_material\n",
       "alloy        2289.059796\n",
       "aluminium    2713.292206\n",
       "carbon       7550.252983\n",
       "chromoly     5400.000000\n",
       "steel         526.151579\n",
       "Name: price, dtype: float64"
      ]
     },
     "execution_count": 28,
     "metadata": {},
     "output_type": "execute_result"
    }
   ],
   "source": [
    "print(train_df.handlebar_material.value_counts())\n",
    "grouped = train_df.groupby('handlebar_material')\n",
    "grouped['price'].mean()"
   ]
  },
  {
   "cell_type": "code",
   "execution_count": 29,
   "metadata": {},
   "outputs": [
    {
     "data": {
      "text/plain": [
       "<matplotlib.axes._subplots.AxesSubplot at 0x7f98633d1d68>"
      ]
     },
     "execution_count": 29,
     "metadata": {},
     "output_type": "execute_result"
    },
    {
     "data": {
      "image/png": "[encoded data removed]",
      "text/plain": [
       "<Figure size 432x288 with 1 Axes>"
      ]
     },
     "metadata": {
      "needs_background": "light"
     },
     "output_type": "display_data"
    }
   ],
   "source": [
    "sns.boxplot(x=train_df.handlebar_material, y=train_df.price)"
   ]
  },
  {
   "cell_type": "code",
   "execution_count": 30,
   "metadata": {},
   "outputs": [
    {
     "data": {
      "text/plain": [
       "0    5873\n",
       "1     818\n",
       "Name: carbon_handlebar, dtype: int64"
      ]
     },
     "execution_count": 30,
     "metadata": {},
     "output_type": "execute_result"
    }
   ],
   "source": [
    "train_df['carbon_handlebar'] = train_df.handlebar_material.apply(lambda x: 1 if x == 'carbon' else 0)\n",
    "train_df.carbon_handlebar.value_counts()"
   ]
  },
  {
   "cell_type": "code",
   "execution_count": 31,
   "metadata": {},
   "outputs": [
    {
     "name": "stdout",
     "output_type": "stream",
     "text": [
      "alloy        914\n",
      "carbon       352\n",
      "steel        166\n",
      "aluminium    109\n",
      "chromoly      14\n",
      "titanium       1\n",
      "Name: crankset_material, dtype: int64\n"
     ]
    },
    {
     "data": {
      "text/plain": [
       "crankset_material\n",
       "alloy        1956.036575\n",
       "aluminium    2623.416789\n",
       "carbon       6660.852670\n",
       "chromoly     1218.350000\n",
       "steel        2230.340120\n",
       "titanium     9599.990000\n",
       "Name: price, dtype: float64"
      ]
     },
     "execution_count": 31,
     "metadata": {},
     "output_type": "execute_result"
    }
   ],
   "source": [
    "print(train_df.crankset_material.value_counts())\n",
    "grouped = train_df.groupby('crankset_material')\n",
    "grouped['price'].mean()"
   ]
  },
  {
   "cell_type": "code",
   "execution_count": 32,
   "metadata": {},
   "outputs": [
    {
     "data": {
      "text/plain": [
       "<matplotlib.axes._subplots.AxesSubplot at 0x7f9863325748>"
      ]
     },
     "execution_count": 32,
     "metadata": {},
     "output_type": "execute_result"
    },
    {
     "data": {
      "image/png": "[encoded data removed]",
      "text/plain": [
       "<Figure size 432x288 with 1 Axes>"
      ]
     },
     "metadata": {
      "needs_background": "light"
     },
     "output_type": "display_data"
    }
   ],
   "source": [
    "sns.boxplot(x=train_df.crankset_material, y=train_df.price)"
   ]
  },
  {
   "cell_type": "code",
   "execution_count": 33,
   "metadata": {},
   "outputs": [
    {
     "data": {
      "text/plain": [
       "0    6339\n",
       "1     352\n",
       "Name: carbon_crankset, dtype: int64"
      ]
     },
     "execution_count": 33,
     "metadata": {},
     "output_type": "execute_result"
    }
   ],
   "source": [
    "train_df['carbon_crankset'] = train_df.crankset_material.apply(lambda x: 1 if x == 'carbon' else 0)\n",
    "train_df.carbon_crankset.value_counts()"
   ]
  },
  {
   "cell_type": "code",
   "execution_count": 34,
   "metadata": {},
   "outputs": [
    {
     "name": "stdout",
     "output_type": "stream",
     "text": [
      "alloy        1858\n",
      "carbon        968\n",
      "aluminium     148\n",
      "steel          23\n",
      "titanium        4\n",
      "Name: seatpost_material, dtype: int64\n"
     ]
    },
    {
     "data": {
      "text/plain": [
       "seatpost_material\n",
       "alloy        1474.797336\n",
       "aluminium    2618.669865\n",
       "carbon       5179.130940\n",
       "steel         551.030870\n",
       "titanium     5449.250000\n",
       "Name: price, dtype: float64"
      ]
     },
     "execution_count": 34,
     "metadata": {},
     "output_type": "execute_result"
    }
   ],
   "source": [
    "print(train_df.seatpost_material.value_counts())\n",
    "grouped = train_df.groupby('seatpost_material')\n",
    "grouped['price'].mean()"
   ]
  },
  {
   "cell_type": "code",
   "execution_count": 35,
   "metadata": {},
   "outputs": [
    {
     "data": {
      "text/plain": [
       "<matplotlib.axes._subplots.AxesSubplot at 0x7f98632afb38>"
      ]
     },
     "execution_count": 35,
     "metadata": {},
     "output_type": "execute_result"
    },
    {
     "data": {
      "image/png": "[encoded data removed]",
      "text/plain": [
       "<Figure size 432x288 with 1 Axes>"
      ]
     },
     "metadata": {
      "needs_background": "light"
     },
     "output_type": "display_data"
    }
   ],
   "source": [
    "sns.boxplot(x=train_df.seatpost_material, y=train_df.price)"
   ]
  },
  {
   "cell_type": "code",
   "execution_count": 36,
   "metadata": {},
   "outputs": [
    {
     "data": {
      "text/plain": [
       "0    5723\n",
       "1     968\n",
       "Name: carbon_seatpost, dtype: int64"
      ]
     },
     "execution_count": 36,
     "metadata": {},
     "output_type": "execute_result"
    }
   ],
   "source": [
    "train_df['carbon_seatpost'] = train_df.seatpost_material.apply(lambda x: 1 if x == 'carbon' else 0)\n",
    "train_df.carbon_seatpost.value_counts()"
   ]
  },
  {
   "cell_type": "markdown",
   "metadata": {},
   "source": [
    "Alloy, aluminium, and carbon fork have relatively same average price. Surprisingly, having steel and chromoly fork has strong negative relationship to price. For this, we will implement one-hot encoding for steel and chromoly fork material; or rather one-hot encoding for non-carbon, alloy, aluminium for material."
   ]
  },
  {
   "cell_type": "code",
   "execution_count": 37,
   "metadata": {},
   "outputs": [
    {
     "name": "stdout",
     "output_type": "stream",
     "text": [
      "carbon       1867\n",
      "alloy         410\n",
      "steel         386\n",
      "chromoly      288\n",
      "aluminium     227\n",
      "titanium        1\n",
      "Name: fork_material, dtype: int64\n"
     ]
    },
    {
     "data": {
      "text/plain": [
       "fork_material\n",
       "alloy        2341.767024\n",
       "aluminium    1907.530044\n",
       "carbon       3540.693417\n",
       "chromoly     1141.278368\n",
       "steel        1006.329482\n",
       "titanium     2459.000000\n",
       "Name: price, dtype: float64"
      ]
     },
     "execution_count": 37,
     "metadata": {},
     "output_type": "execute_result"
    }
   ],
   "source": [
    "print(train_df.fork_material.value_counts())\n",
    "grouped = train_df.groupby('fork_material')\n",
    "grouped['price'].mean()"
   ]
  },
  {
   "cell_type": "code",
   "execution_count": 38,
   "metadata": {},
   "outputs": [
    {
     "data": {
      "text/plain": [
       "<matplotlib.axes._subplots.AxesSubplot at 0x7f98631e90f0>"
      ]
     },
     "execution_count": 38,
     "metadata": {},
     "output_type": "execute_result"
    },
    {
     "data": {
      "image/png": "[encoded data removed]",
      "text/plain": [
       "<Figure size 432x288 with 1 Axes>"
      ]
     },
     "metadata": {
      "needs_background": "light"
     },
     "output_type": "display_data"
    }
   ],
   "source": [
    "sns.boxplot(x=train_df.fork_material, y=train_df.price)"
   ]
  },
  {
   "cell_type": "code",
   "execution_count": 39,
   "metadata": {},
   "outputs": [
    {
     "data": {
      "text/plain": [
       "0    4824\n",
       "1    1867\n",
       "Name: carbon_fork, dtype: int64"
      ]
     },
     "execution_count": 39,
     "metadata": {},
     "output_type": "execute_result"
    }
   ],
   "source": [
    "train_df['carbon_fork'] = train_df.fork_material.apply(lambda x: 1 if x == 'carbon' else 0)\n",
    "train_df.carbon_fork.value_counts()"
   ]
  },
  {
   "cell_type": "markdown",
   "metadata": {},
   "source": [
    "#### Brake Type"
   ]
  },
  {
   "cell_type": "code",
   "execution_count": 40,
   "metadata": {},
   "outputs": [
    {
     "name": "stdout",
     "output_type": "stream",
     "text": [
      "disc                                                                                                          2771\n",
      "hydraulic                                                                                                     1619\n",
      "caliper                                                                                                        710\n",
      "mechanical                                                                                                     184\n",
      "vbrake                                                                                                         158\n",
      "rim                                                                                                            128\n",
      "linear_pull                                                                                                     60\n",
      "coaster                                                                                                         24\n",
      "Alloy Reach Adjustable                                                                                          23\n",
      "SRAM G2 RSC                                                                                                     19\n",
      "Shimano GRX800                                                                                                   8\n",
      "Giant SpeedControl SL                                                                                            7\n",
      "SRAM G2 RSC - Avid Centerline 180mm                                                                              7\n",
      "Shimano Dura-Ace                                                                                                 7\n",
      "Ultegra                                                                                                          7\n",
      "Shimano MT520                                                                                                    6\n",
      "Promax RC-452                                                                                                    6\n",
      "MOst B-Max                                                                                                       6\n",
      "160mm post-mount                                                                                                 6\n",
      "Ultegra 8000                                                                                                     6\n",
      "Ultegra BR-R8070                                                                                                 5\n",
      "Shimano M615                                                                                                     5\n",
      "SHIMANO GRX800                                                                                                   5\n",
      "SRAM G2 Ultimate                                                                                                 5\n",
      "Shimano SM-RT800, 160mm                                                                                          5\n",
      "Tektro Orion 4 Piston HD-M745                                                                                    5\n",
      "SRAM RED                                                                                                         5\n",
      "post mount 180mm                                                                                                 5\n",
      "Promax RC-476                                                                                                    4\n",
      "Direct-Mount                                                                                                     4\n",
      "                                                                                                              ... \n",
      "flat-mount                                                                                                       1\n",
      "Campagnolo Centaur                                                                                               1\n",
      "Cannondale Mini V, Cartridge Pads                                                                                1\n",
      "Promax Render R, 160/140mm                                                                                       1\n",
      "Tektro CR710 Cantilever                                                                                          1\n",
      "SRAM G2 Ultimate - SRAM XX1 Eagle AXS 148 DUB, 32t - 165mm (XS), 170mm (S), 175mm (M-XXL                         1\n",
      "180mm post-mount                                                                                                 1\n",
      "SRAM S-900 Aero, HRD                                                                                             1\n",
      "Shimano BR-M315, resin pad, Shimano SM-RT10, 160mm, Center Lock, for resin pad only                              1\n",
      "Shimano MT201 [F] 180mm [R] 160mm                                                                                1\n",
      "Shimano Dura-Ace R9110                                                                                           1\n",
      "THM Fibula                                                                                                       1\n",
      "Shimano Dura-Ace 9100                                                                                            1\n",
      "Magura MT5, 203mm / Magura MT5, 180mm                                                                            1\n",
      "Tektro grey Speed Stop V brakes, stainless flex noodle, stainless link and bolts, “Silent Grip” brake pads       1\n",
      "XX1 Guide Ultimate                                                                                               1\n",
      "SRAM Apex 2/2 Piston                                                                                             1\n",
      "i9 Torch, 12x148, XD, 28h, Avid Centerline 200mm                                                                 1\n",
      "Shimano Dura-Ace BR-R9170                                                                                        1\n",
      "SRAM RED D1                                                                                                      1\n",
      "TEKTRO “RS-360A” front, SRAM “DB-LVL-A1” rear                                                                    1\n",
      "DEORE XT, BL-M8000(R), BR-M8020(R)  - 4 PISTON                                                                   1\n",
      "Shimano M425, Shimano RT30 CL 180mm front & 160mm rear                                                           1\n",
      "Shimano RX600 11s                                                                                                1\n",
      "Forza Stratos                                                                                                    1\n",
      "Tektro Aries MD-M280                                                                                             1\n",
      "Promax Alloy V Brake, Silver                                                                                     1\n",
      "SRAM XX1 Guide Ultimate                                                                                          1\n",
      "XT M8000                                                                                                         1\n",
      "Specialized Aero, center pull                                                                                    1\n",
      "Name: brake_type, Length: 170, dtype: int64\n"
     ]
    },
    {
     "data": {
      "text/plain": [
       "brake_type\n",
       "160mm post-mount                                                                                               1932.333333\n",
       "180mm post mount                                                                                               3299.000000\n",
       "180mm post-mount                                                                                               3299.000000\n",
       "180mm post-mount                                                                                               3299.000000\n",
       "AXIS 1.0                                                                                                        799.990000\n",
       "Aero integrated design (F&R)                                                                                   7999.000000\n",
       "Alloy                                                                                                           849.990000\n",
       "Alloy 3-Finger, Reach Adjustable                                                                                556.656667\n",
       "Alloy 4-Finger, Reach Adjustable                                                                                594.990000\n",
       "Alloy Reach Adjustable                                                                                          640.424783\n",
       "Avid BB7                                                                                                       1750.000000\n",
       "Avid BB7M, G2CS 160mm                                                                                          1599.000000\n",
       "Avid FR5, two finger levers                                                                                    2449.990000\n",
       "Bontrager Speed Concept integrated                                                                             3299.990000\n",
       "Bontrager Speed Limit integrated, Bontrager Race lite aero levers                                              4133.323333\n",
       "Bontrager Speed Stop, direct mount                                                                             3366.656667\n",
       "Campagnolo Centaur                                                                                             2999.990000\n",
       "Campagnolo Chorus                                                                                              5218.000000\n",
       "Campagnolo Record                                                                                              8052.000000\n",
       "Cannondale Mini V, Cartridge Pads                                                                               479.990000\n",
       "Cantilever                                                                                                     1101.000000\n",
       "DEORE XT, BL-M8000(R), BR-M8020(R)  - 4 PISTON                                                                 8999.990000\n",
       "Direct-Mount                                                                                                   4049.495000\n",
       "Drum Brake                                                                                                     1249.950000\n",
       "Dura Ace 9100                                                                                                  6999.000000\n",
       "Dura-Ace                                                                                                       2850.000000\n",
       "Dura-Ace BR-R9170, 160 mm FRONT / 140 mm REAR                                                                  9500.000000\n",
       "Dura-Ace R9150                                                                                                 6315.666667\n",
       "Flat-Mount                                                                                                     2633.323333\n",
       "Forza Stratos                                                                                                  1799.990000\n",
       "                                                                                                                  ...     \n",
       "Tektro grey Speed Stop V brakes, stainless flex noodle, stainless link and bolts, “Silent Grip” brake pads      799.990000\n",
       "Ultegra                                                                                                        2941.857143\n",
       "Ultegra 8000                                                                                                   5375.000000\n",
       "Ultegra BR-R8070                                                                                               4980.000000\n",
       "Ultegra R8070 Flat Mount                                                                                       4846.800000\n",
       "Ultegra RS805                                                                                                  4000.000000\n",
       "V, aluminum, linear spring                                                                                      724.750000\n",
       "XT M8000                                                                                                       5799.990000\n",
       "XTR                                                                                                            2916.000000\n",
       "XTR M9120                                                                                                      5249.000000\n",
       "XX1 Guide Ultimate                                                                                             8399.000000\n",
       "[F] TKB84 [R]TBK88                                                                                             2279.995000\n",
       "[front] hidden, integrated, [rear] direct mount                                                                6299.000000\n",
       "[front] standard mount, [rear] Shimano direct mount standard                                                   4199.990000\n",
       "caliper                                                                                                        3224.463056\n",
       "coaster                                                                                                         631.613333\n",
       "direct mount                                                                                                   3999.000000\n",
       "direct-mount                                                                                                   3974.995000\n",
       "disc                                                                                                           3788.815969\n",
       "flat-mount                                                                                                     2899.000000\n",
       "hydraulic                                                                                                      3218.784169\n",
       "i9 Torch, 12x148, XD, 28h, Avid Centerline 200mm                                                              10499.990000\n",
       "linear_pull                                                                                                     556.825833\n",
       "mechanical                                                                                                     1039.487935\n",
       "post mount 160                                                                                                 1299.000000\n",
       "post mount 180mm                                                                                               2574.198000\n",
       "post-mount 160                                                                                                 2299.990000\n",
       "rim                                                                                                            2751.727812\n",
       "ubrake                                                                                                          799.000000\n",
       "vbrake                                                                                                          507.691709\n",
       "Name: price, Length: 170, dtype: float64"
      ]
     },
     "execution_count": 40,
     "metadata": {},
     "output_type": "execute_result"
    }
   ],
   "source": [
    "print(train_df.brake_type.value_counts())\n",
    "grouped = train_df.groupby('brake_type')\n",
    "grouped['price'].mean()"
   ]
  },
  {
   "cell_type": "code",
   "execution_count": 41,
   "metadata": {},
   "outputs": [
    {
     "data": {
      "text/plain": [
       "price               3476.450896\n",
       "msrp                3668.452280\n",
       "model_year          2019.323936\n",
       "carbon_frame           0.406865\n",
       "titanium_frame         0.001093\n",
       "carbon_handlebar       0.148010\n",
       "carbon_crankset        0.062965\n",
       "carbon_seatpost        0.102099\n",
       "carbon_fork            0.216003\n",
       "dtype: float64"
      ]
     },
     "execution_count": 41,
     "metadata": {},
     "output_type": "execute_result"
    }
   ],
   "source": [
    "train_df[(train_df.brake_type == 'disc') | (train_df.brake_type == 'hydraulic') | (train_df.brake_type == 'mechanical')].mean()"
   ]
  },
  {
   "cell_type": "code",
   "execution_count": 42,
   "metadata": {},
   "outputs": [
    {
     "data": {
      "text/plain": [
       "1    4574\n",
       "0    2117\n",
       "Name: disc_brakes, dtype: int64"
      ]
     },
     "execution_count": 42,
     "metadata": {},
     "output_type": "execute_result"
    }
   ],
   "source": [
    "train_df['disc_brakes'] = train_df.brake_type.apply(lambda x: 1 if x == 'disc' or x == 'hydraulic' or x == 'mechanical' else 0)\n",
    "train_df.disc_brakes.value_counts()"
   ]
  },
  {
   "cell_type": "code",
   "execution_count": 43,
   "metadata": {},
   "outputs": [
    {
     "data": {
      "text/plain": [
       "0    5072\n",
       "1    1619\n",
       "Name: hydraulic_disc_brakes, dtype: int64"
      ]
     },
     "execution_count": 43,
     "metadata": {},
     "output_type": "execute_result"
    }
   ],
   "source": [
    "train_df['hydraulic_disc_brakes'] = train_df.brake_type.apply(lambda x: 1 if x == 'hydraulic' else 0)\n",
    "train_df.hydraulic_disc_brakes.value_counts()"
   ]
  },
  {
   "cell_type": "code",
   "execution_count": 44,
   "metadata": {},
   "outputs": [
    {
     "data": {
      "text/plain": [
       "0    6507\n",
       "1     184\n",
       "Name: mechanical_disc_brakes, dtype: int64"
      ]
     },
     "execution_count": 44,
     "metadata": {},
     "output_type": "execute_result"
    }
   ],
   "source": [
    "train_df['mechanical_disc_brakes'] = train_df.brake_type.apply(lambda x: 1 if x == 'mechanical' else 0)\n",
    "train_df.mechanical_disc_brakes.value_counts()"
   ]
  },
  {
   "cell_type": "code",
   "execution_count": 45,
   "metadata": {},
   "outputs": [
    {
     "data": {
      "text/html": [
       "<div>\n",
       "<style scoped>\n",
       "    .dataframe tbody tr th:only-of-type {\n",
       "        vertical-align: middle;\n",
       "    }\n",
       "\n",
       "    .dataframe tbody tr th {\n",
       "        vertical-align: top;\n",
       "    }\n",
       "\n",
       "    .dataframe thead th {\n",
       "        text-align: right;\n",
       "    }\n",
       "</style>\n",
       "<table border=\"1\" class=\"dataframe\">\n",
       "  <thead>\n",
       "    <tr style=\"text-align: right;\">\n",
       "      <th></th>\n",
       "      <th>site</th>\n",
       "      <th>bike_type</th>\n",
       "      <th>product_id</th>\n",
       "      <th>href</th>\n",
       "      <th>description</th>\n",
       "      <th>brand</th>\n",
       "      <th>price</th>\n",
       "      <th>msrp</th>\n",
       "      <th>frame_material</th>\n",
       "      <th>model_year</th>\n",
       "      <th>...</th>\n",
       "      <th>shifter_groupset</th>\n",
       "      <th>carbon_frame</th>\n",
       "      <th>titanium_frame</th>\n",
       "      <th>carbon_handlebar</th>\n",
       "      <th>carbon_crankset</th>\n",
       "      <th>carbon_seatpost</th>\n",
       "      <th>carbon_fork</th>\n",
       "      <th>disc_brakes</th>\n",
       "      <th>hydraulic_disc_brakes</th>\n",
       "      <th>mechanical_disc_brakes</th>\n",
       "    </tr>\n",
       "  </thead>\n",
       "  <tbody>\n",
       "  </tbody>\n",
       "</table>\n",
       "<p>0 rows × 30 columns</p>\n",
       "</div>"
      ],
      "text/plain": [
       "Empty DataFrame\n",
       "Columns: [site, bike_type, product_id, href, description, brand, price, msrp, frame_material, model_year, brake_type, fork_material, handlebar_material, fd_groupset, rd_groupset, cassette_groupset, crankset_material, crankset_groupset, seatpost_material, chain_groupset, shifter_groupset, carbon_frame, titanium_frame, carbon_handlebar, carbon_crankset, carbon_seatpost, carbon_fork, disc_brakes, hydraulic_disc_brakes, mechanical_disc_brakes]\n",
       "Index: []\n",
       "\n",
       "[0 rows x 30 columns]"
      ]
     },
     "execution_count": 45,
     "metadata": {},
     "output_type": "execute_result"
    }
   ],
   "source": [
    "train_df[train_df.brake_type == 'other'] ### DATA INTEGRITY ISSUES - NEED TO CLEAN UP DATA PIPELINE\n",
    "# Seem to have framesets in samples and unnecessarily incomplete samples which have actual specs on website"
   ]
  },
  {
   "cell_type": "markdown",
   "metadata": {},
   "source": [
    "#### Model Year Field"
   ]
  },
  {
   "cell_type": "code",
   "execution_count": 46,
   "metadata": {},
   "outputs": [
    {
     "data": {
      "text/plain": [
       "count    2792.000000\n",
       "mean     2019.281519\n",
       "std         0.868396\n",
       "min      2013.000000\n",
       "25%      2019.000000\n",
       "50%      2019.000000\n",
       "75%      2020.000000\n",
       "max      2020.000000\n",
       "Name: model_year, dtype: float64"
      ]
     },
     "execution_count": 46,
     "metadata": {},
     "output_type": "execute_result"
    }
   ],
   "source": [
    "# Summary statistics\n",
    "train_df.model_year.describe()"
   ]
  },
  {
   "cell_type": "code",
   "execution_count": 47,
   "metadata": {},
   "outputs": [
    {
     "data": {
      "text/plain": [
       "0    2020.0\n",
       "dtype: float64"
      ]
     },
     "execution_count": 47,
     "metadata": {},
     "output_type": "execute_result"
    }
   ],
   "source": [
    "# Mode\n",
    "train_df.model_year.mode()"
   ]
  },
  {
   "cell_type": "code",
   "execution_count": 48,
   "metadata": {},
   "outputs": [
    {
     "data": {
      "text/plain": [
       "2020.0    1350\n",
       "2019.0    1027\n",
       "2018.0     309\n",
       "2017.0      74\n",
       "2016.0      23\n",
       "2015.0       8\n",
       "2013.0       1\n",
       "Name: model_year, dtype: int64"
      ]
     },
     "execution_count": 48,
     "metadata": {},
     "output_type": "execute_result"
    }
   ],
   "source": [
    "# Counts by values\n",
    "train_df.model_year.value_counts()"
   ]
  },
  {
   "cell_type": "markdown",
   "metadata": {},
   "source": [
    "The mean is about 2019, the median is 2019, and the mode is 2020. Let's set missing values to 2019."
   ]
  },
  {
   "cell_type": "code",
   "execution_count": 49,
   "metadata": {},
   "outputs": [
    {
     "data": {
      "text/plain": [
       "count    6691.000000\n",
       "mean     2019.117471\n",
       "std         0.577825\n",
       "min      2013.000000\n",
       "25%      2019.000000\n",
       "50%      2019.000000\n",
       "75%      2019.000000\n",
       "max      2020.000000\n",
       "Name: model_year, dtype: float64"
      ]
     },
     "execution_count": 49,
     "metadata": {},
     "output_type": "execute_result"
    }
   ],
   "source": [
    "train_df.loc[train_df.model_year.isnull(), 'model_year'] = 2019\n",
    "train_df.model_year.describe()"
   ]
  },
  {
   "cell_type": "markdown",
   "metadata": {},
   "source": [
    "#### Groupset rank\n",
    "Use groupset ranking based on price of groupset brand and types.\n",
    "\n",
    "First task is to determine what to do with missing values. The groupset columns are related to a bike's drivetrain setup. Typically a bike's drivetrain is from the same groupset, with occaissional a level up/downgrade of certain components. Using this fact, for front derailleur, rear derailleiur, and shifters, if the other two match, then replacing with the same value for missing column."
   ]
  },
  {
   "cell_type": "code",
   "execution_count": 50,
   "metadata": {},
   "outputs": [
    {
     "data": {
      "text/plain": [
       "Index(['fd_groupset', 'rd_groupset', 'cassette_groupset', 'crankset_groupset',\n",
       "       'chain_groupset', 'shifter_groupset'],\n",
       "      dtype='object')"
      ]
     },
     "execution_count": 50,
     "metadata": {},
     "output_type": "execute_result"
    }
   ],
   "source": [
    "groupset_cols = train_df.filter(regex='groupset').columns\n",
    "groupset_cols"
   ]
  },
  {
   "cell_type": "code",
   "execution_count": 51,
   "metadata": {},
   "outputs": [],
   "source": [
    "def update_if_matching(df: pd.DataFrame, idx: int, ref_cols: list) -> str:\n",
    "    match_count = 0\n",
    "    if df.loc[idx, ref_cols[0]] == df.loc[idx, ref_cols[1]]:\n",
    "        return df.loc[idx, ref_cols[0]]\n",
    "    return np.NaN    "
   ]
  },
  {
   "cell_type": "code",
   "execution_count": 52,
   "metadata": {},
   "outputs": [],
   "source": [
    "null_fd_idx = train_df[train_df.fd_groupset.isnull()].index\n",
    "null_rd_idx = train_df[train_df.rd_groupset.isnull()].index\n",
    "null_shf_idx = train_df[train_df.shifter_groupset.isnull()].index"
   ]
  },
  {
   "cell_type": "code",
   "execution_count": 53,
   "metadata": {},
   "outputs": [],
   "source": [
    "# update fd_groupste, rd_groupset, and shifter_groupset accordingly\n",
    "for i in null_fd_idx:\n",
    "    train_df.loc[i, 'fd_groupset'] = update_if_matching(df=train_df, idx=i,\n",
    "                                                        ref_cols=['rd_groupset', 'shifter_groupset'])\n",
    "\n",
    "for i in null_fd_idx:\n",
    "    train_df.loc[i, 'rd_groupset'] = update_if_matching(df=train_df, idx=i,\n",
    "                                                        ref_cols=['fd_groupset', 'shifter_groupset'])\n",
    "    \n",
    "for i in null_fd_idx:\n",
    "    train_df.loc[i, 'shifter_groupset'] = update_if_matching(df=train_df, idx=i,\n",
    "                                                        ref_cols=['rd_groupset', 'fd_groupset'])"
   ]
  },
  {
   "cell_type": "code",
   "execution_count": 54,
   "metadata": {},
   "outputs": [
    {
     "name": "stdout",
     "output_type": "stream",
     "text": [
      "count    4707.000000\n",
      "mean        2.942607\n",
      "std         1.180311\n",
      "min         0.500000\n",
      "25%         2.500000\n",
      "50%         3.000000\n",
      "75%         4.000000\n",
      "max         5.500000\n",
      "Name: fd_rank, dtype: float64\n"
     ]
    },
    {
     "data": {
      "text/plain": [
       "<matplotlib.axes._subplots.AxesSubplot at 0x7f98630955c0>"
      ]
     },
     "execution_count": 54,
     "metadata": {},
     "output_type": "execute_result"
    },
    {
     "data": {
      "image/png": "[encoded data removed]",
      "text/plain": [
       "<Figure size 432x288 with 1 Axes>"
      ]
     },
     "metadata": {
      "needs_background": "light"
     },
     "output_type": "display_data"
    }
   ],
   "source": [
    "# add groupset rank columns for fd, rd, and shifters\n",
    "train_df['fd_rank'] = train_df.fd_groupset.apply(lambda x: GROUPSET_RANKING.get(x, np.NaN))\n",
    "print(train_df.fd_rank.describe())\n",
    "sns.boxplot(x=train_df.fd_rank, y=train_df.price)"
   ]
  },
  {
   "cell_type": "code",
   "execution_count": 55,
   "metadata": {},
   "outputs": [
    {
     "name": "stdout",
     "output_type": "stream",
     "text": [
      "count    4817.000000\n",
      "mean        2.970542\n",
      "std         1.107255\n",
      "min         0.500000\n",
      "25%         2.500000\n",
      "50%         3.000000\n",
      "75%         4.000000\n",
      "max         5.500000\n",
      "Name: rd_rank, dtype: float64\n"
     ]
    },
    {
     "data": {
      "text/plain": [
       "<matplotlib.axes._subplots.AxesSubplot at 0x7f9814e43b00>"
      ]
     },
     "execution_count": 55,
     "metadata": {},
     "output_type": "execute_result"
    },
    {
     "data": {
      "image/png": "[encoded data removed]",
      "text/plain": [
       "<Figure size 432x288 with 1 Axes>"
      ]
     },
     "metadata": {
      "needs_background": "light"
     },
     "output_type": "display_data"
    }
   ],
   "source": [
    "train_df['rd_rank'] = train_df.rd_groupset.apply(lambda x: GROUPSET_RANKING.get(x, np.NaN))\n",
    "print(train_df.rd_rank.describe())\n",
    "sns.boxplot(x=train_df.rd_rank, y=train_df.price)"
   ]
  },
  {
   "cell_type": "code",
   "execution_count": 56,
   "metadata": {},
   "outputs": [
    {
     "name": "stdout",
     "output_type": "stream",
     "text": [
      "count    4353.000000\n",
      "mean        3.005307\n",
      "std         1.087166\n",
      "min         0.500000\n",
      "25%         2.500000\n",
      "50%         3.000000\n",
      "75%         4.000000\n",
      "max         6.000000\n",
      "Name: shifter_rank, dtype: float64\n"
     ]
    },
    {
     "data": {
      "text/plain": [
       "<matplotlib.axes._subplots.AxesSubplot at 0x7f9814c5e860>"
      ]
     },
     "execution_count": 56,
     "metadata": {},
     "output_type": "execute_result"
    },
    {
     "data": {
      "image/png": "[encoded data removed]",
      "text/plain": [
       "<Figure size 432x288 with 1 Axes>"
      ]
     },
     "metadata": {
      "needs_background": "light"
     },
     "output_type": "display_data"
    }
   ],
   "source": [
    "train_df['shifter_rank'] = train_df.shifter_groupset.apply(lambda x: GROUPSET_RANKING.get(x, np.NaN))\n",
    "print(train_df.shifter_rank.describe())\n",
    "sns.boxplot(x=train_df.shifter_rank, y=train_df.price)"
   ]
  },
  {
   "cell_type": "code",
   "execution_count": 57,
   "metadata": {},
   "outputs": [
    {
     "name": "stdout",
     "output_type": "stream",
     "text": [
      "<class 'pandas.core.frame.DataFrame'>\n",
      "Int64Index: 6691 entries, 4958 to 9547\n",
      "Data columns (total 33 columns):\n",
      "site                      6691 non-null object\n",
      "bike_type                 6691 non-null object\n",
      "product_id                6691 non-null object\n",
      "href                      6691 non-null object\n",
      "description               6691 non-null object\n",
      "brand                     6691 non-null object\n",
      "price                     6691 non-null float64\n",
      "msrp                      6691 non-null float64\n",
      "frame_material            6210 non-null object\n",
      "model_year                6691 non-null float64\n",
      "brake_type                6050 non-null object\n",
      "fork_material             3179 non-null object\n",
      "handlebar_material        3299 non-null object\n",
      "fd_groupset               4852 non-null object\n",
      "rd_groupset               4834 non-null object\n",
      "cassette_groupset         5423 non-null object\n",
      "crankset_material         1556 non-null object\n",
      "crankset_groupset         3903 non-null object\n",
      "seatpost_material         3001 non-null object\n",
      "chain_groupset            3597 non-null object\n",
      "shifter_groupset          4496 non-null object\n",
      "carbon_frame              6691 non-null int64\n",
      "titanium_frame            6691 non-null int64\n",
      "carbon_handlebar          6691 non-null int64\n",
      "carbon_crankset           6691 non-null int64\n",
      "carbon_seatpost           6691 non-null int64\n",
      "carbon_fork               6691 non-null int64\n",
      "disc_brakes               6691 non-null int64\n",
      "hydraulic_disc_brakes     6691 non-null int64\n",
      "mechanical_disc_brakes    6691 non-null int64\n",
      "fd_rank                   4707 non-null float64\n",
      "rd_rank                   4817 non-null float64\n",
      "shifter_rank              4353 non-null float64\n",
      "dtypes: float64(6), int64(9), object(18)\n",
      "memory usage: 2.0+ MB\n"
     ]
    }
   ],
   "source": [
    "train_df.info()"
   ]
  },
  {
   "cell_type": "code",
   "execution_count": 148,
   "metadata": {},
   "outputs": [
    {
     "name": "stdout",
     "output_type": "stream",
     "text": [
      "<class 'pandas.core.frame.DataFrame'>\n",
      "Int64Index: 6691 entries, 4958 to 9547\n",
      "Data columns (total 15 columns):\n",
      "price                     6691 non-null float64\n",
      "msrp                      6691 non-null float64\n",
      "model_year                6691 non-null float64\n",
      "carbon_frame              6691 non-null int64\n",
      "titanium_frame            6691 non-null int64\n",
      "carbon_handlebar          6691 non-null int64\n",
      "carbon_crankset           6691 non-null int64\n",
      "carbon_seatpost           6691 non-null int64\n",
      "carbon_fork               6691 non-null int64\n",
      "disc_brakes               6691 non-null int64\n",
      "hydraulic_disc_brakes     6691 non-null int64\n",
      "mechanical_disc_brakes    6691 non-null int64\n",
      "fd_rank                   4707 non-null float64\n",
      "rd_rank                   4817 non-null float64\n",
      "shifter_rank              4353 non-null float64\n",
      "dtypes: float64(6), int64(9)\n",
      "memory usage: 1.1 MB\n"
     ]
    }
   ],
   "source": [
    "num_cols = train_df.describe().columns\n",
    "model_df = train_df[num_cols]\n",
    "model_df.info()"
   ]
  },
  {
   "cell_type": "code",
   "execution_count": 149,
   "metadata": {},
   "outputs": [
    {
     "name": "stdout",
     "output_type": "stream",
     "text": [
      "<class 'pandas.core.frame.DataFrame'>\n",
      "Int64Index: 3208 entries, 7052 to 2686\n",
      "Data columns (total 14 columns):\n",
      "price                     3208 non-null float64\n",
      "carbon_frame              3208 non-null int64\n",
      "titanium_frame            3208 non-null int64\n",
      "carbon_handlebar          3208 non-null int64\n",
      "carbon_crankset           3208 non-null int64\n",
      "carbon_seatpost           3208 non-null int64\n",
      "carbon_fork               3208 non-null int64\n",
      "disc_brakes               3208 non-null int64\n",
      "hydraulic_disc_brakes     3208 non-null int64\n",
      "mechanical_disc_brakes    3208 non-null int64\n",
      "fd_rank                   3208 non-null float64\n",
      "rd_rank                   3208 non-null float64\n",
      "shifter_rank              3208 non-null float64\n",
      "age                       3208 non-null float64\n",
      "dtypes: float64(5), int64(9)\n",
      "memory usage: 375.9 KB\n"
     ]
    }
   ],
   "source": [
    "# drop rows with nas, create 'age' column, and then drop msrp and model_year\n",
    "model_df = model_df.dropna(axis=0)\n",
    "model_df['age'] = model_df.model_year.apply(lambda x: 2020 - x)\n",
    "model_df = model_df.drop(columns=['msrp', 'model_year'])\n",
    "model_df = model_df.loc[model_df.price < 5000,]\n",
    "model_df.info()"
   ]
  },
  {
   "cell_type": "code",
   "execution_count": 150,
   "metadata": {},
   "outputs": [
    {
     "data": {
      "text/html": [
       "<div>\n",
       "<style scoped>\n",
       "    .dataframe tbody tr th:only-of-type {\n",
       "        vertical-align: middle;\n",
       "    }\n",
       "\n",
       "    .dataframe tbody tr th {\n",
       "        vertical-align: top;\n",
       "    }\n",
       "\n",
       "    .dataframe thead th {\n",
       "        text-align: right;\n",
       "    }\n",
       "</style>\n",
       "<table border=\"1\" class=\"dataframe\">\n",
       "  <thead>\n",
       "    <tr style=\"text-align: right;\">\n",
       "      <th></th>\n",
       "      <th>price</th>\n",
       "      <th>carbon_frame</th>\n",
       "      <th>titanium_frame</th>\n",
       "      <th>carbon_handlebar</th>\n",
       "      <th>carbon_crankset</th>\n",
       "      <th>carbon_seatpost</th>\n",
       "      <th>carbon_fork</th>\n",
       "      <th>disc_brakes</th>\n",
       "      <th>hydraulic_disc_brakes</th>\n",
       "      <th>mechanical_disc_brakes</th>\n",
       "      <th>fd_rank</th>\n",
       "      <th>rd_rank</th>\n",
       "      <th>shifter_rank</th>\n",
       "      <th>age</th>\n",
       "    </tr>\n",
       "  </thead>\n",
       "  <tbody>\n",
       "    <tr>\n",
       "      <th>count</th>\n",
       "      <td>3208.000000</td>\n",
       "      <td>3208.000000</td>\n",
       "      <td>3208.000000</td>\n",
       "      <td>3208.000000</td>\n",
       "      <td>3208.000000</td>\n",
       "      <td>3208.000000</td>\n",
       "      <td>3208.000000</td>\n",
       "      <td>3208.000000</td>\n",
       "      <td>3208.000000</td>\n",
       "      <td>3208.000000</td>\n",
       "      <td>3208.000000</td>\n",
       "      <td>3208.000000</td>\n",
       "      <td>3208.000000</td>\n",
       "      <td>3208.000000</td>\n",
       "    </tr>\n",
       "    <tr>\n",
       "      <th>mean</th>\n",
       "      <td>2325.016213</td>\n",
       "      <td>0.335411</td>\n",
       "      <td>0.005611</td>\n",
       "      <td>0.024938</td>\n",
       "      <td>0.016833</td>\n",
       "      <td>0.131858</td>\n",
       "      <td>0.324813</td>\n",
       "      <td>0.762469</td>\n",
       "      <td>0.263716</td>\n",
       "      <td>0.045511</td>\n",
       "      <td>2.594405</td>\n",
       "      <td>2.659243</td>\n",
       "      <td>2.670277</td>\n",
       "      <td>0.898379</td>\n",
       "    </tr>\n",
       "    <tr>\n",
       "      <th>std</th>\n",
       "      <td>1348.567283</td>\n",
       "      <td>0.472208</td>\n",
       "      <td>0.074708</td>\n",
       "      <td>0.155959</td>\n",
       "      <td>0.128665</td>\n",
       "      <td>0.338389</td>\n",
       "      <td>0.468378</td>\n",
       "      <td>0.425637</td>\n",
       "      <td>0.440716</td>\n",
       "      <td>0.208455</td>\n",
       "      <td>1.075365</td>\n",
       "      <td>0.994622</td>\n",
       "      <td>0.970122</td>\n",
       "      <td>0.540494</td>\n",
       "    </tr>\n",
       "    <tr>\n",
       "      <th>min</th>\n",
       "      <td>299.990000</td>\n",
       "      <td>0.000000</td>\n",
       "      <td>0.000000</td>\n",
       "      <td>0.000000</td>\n",
       "      <td>0.000000</td>\n",
       "      <td>0.000000</td>\n",
       "      <td>0.000000</td>\n",
       "      <td>0.000000</td>\n",
       "      <td>0.000000</td>\n",
       "      <td>0.000000</td>\n",
       "      <td>0.500000</td>\n",
       "      <td>0.500000</td>\n",
       "      <td>0.500000</td>\n",
       "      <td>0.000000</td>\n",
       "    </tr>\n",
       "    <tr>\n",
       "      <th>25%</th>\n",
       "      <td>1049.990000</td>\n",
       "      <td>0.000000</td>\n",
       "      <td>0.000000</td>\n",
       "      <td>0.000000</td>\n",
       "      <td>0.000000</td>\n",
       "      <td>0.000000</td>\n",
       "      <td>0.000000</td>\n",
       "      <td>1.000000</td>\n",
       "      <td>0.000000</td>\n",
       "      <td>0.000000</td>\n",
       "      <td>2.000000</td>\n",
       "      <td>2.000000</td>\n",
       "      <td>2.000000</td>\n",
       "      <td>1.000000</td>\n",
       "    </tr>\n",
       "    <tr>\n",
       "      <th>50%</th>\n",
       "      <td>2199.990000</td>\n",
       "      <td>0.000000</td>\n",
       "      <td>0.000000</td>\n",
       "      <td>0.000000</td>\n",
       "      <td>0.000000</td>\n",
       "      <td>0.000000</td>\n",
       "      <td>0.000000</td>\n",
       "      <td>1.000000</td>\n",
       "      <td>0.000000</td>\n",
       "      <td>0.000000</td>\n",
       "      <td>3.000000</td>\n",
       "      <td>3.000000</td>\n",
       "      <td>3.000000</td>\n",
       "      <td>1.000000</td>\n",
       "    </tr>\n",
       "    <tr>\n",
       "      <th>75%</th>\n",
       "      <td>3399.990000</td>\n",
       "      <td>1.000000</td>\n",
       "      <td>0.000000</td>\n",
       "      <td>0.000000</td>\n",
       "      <td>0.000000</td>\n",
       "      <td>0.000000</td>\n",
       "      <td>1.000000</td>\n",
       "      <td>1.000000</td>\n",
       "      <td>1.000000</td>\n",
       "      <td>0.000000</td>\n",
       "      <td>3.000000</td>\n",
       "      <td>3.000000</td>\n",
       "      <td>3.000000</td>\n",
       "      <td>1.000000</td>\n",
       "    </tr>\n",
       "    <tr>\n",
       "      <th>max</th>\n",
       "      <td>4999.990000</td>\n",
       "      <td>1.000000</td>\n",
       "      <td>1.000000</td>\n",
       "      <td>1.000000</td>\n",
       "      <td>1.000000</td>\n",
       "      <td>1.000000</td>\n",
       "      <td>1.000000</td>\n",
       "      <td>1.000000</td>\n",
       "      <td>1.000000</td>\n",
       "      <td>1.000000</td>\n",
       "      <td>5.000000</td>\n",
       "      <td>5.000000</td>\n",
       "      <td>5.000000</td>\n",
       "      <td>5.000000</td>\n",
       "    </tr>\n",
       "  </tbody>\n",
       "</table>\n",
       "</div>"
      ],
      "text/plain": [
       "             price  carbon_frame  titanium_frame  carbon_handlebar  \\\n",
       "count  3208.000000   3208.000000     3208.000000       3208.000000   \n",
       "mean   2325.016213      0.335411        0.005611          0.024938   \n",
       "std    1348.567283      0.472208        0.074708          0.155959   \n",
       "min     299.990000      0.000000        0.000000          0.000000   \n",
       "25%    1049.990000      0.000000        0.000000          0.000000   \n",
       "50%    2199.990000      0.000000        0.000000          0.000000   \n",
       "75%    3399.990000      1.000000        0.000000          0.000000   \n",
       "max    4999.990000      1.000000        1.000000          1.000000   \n",
       "\n",
       "       carbon_crankset  carbon_seatpost  carbon_fork  disc_brakes  \\\n",
       "count      3208.000000      3208.000000  3208.000000  3208.000000   \n",
       "mean          0.016833         0.131858     0.324813     0.762469   \n",
       "std           0.128665         0.338389     0.468378     0.425637   \n",
       "min           0.000000         0.000000     0.000000     0.000000   \n",
       "25%           0.000000         0.000000     0.000000     1.000000   \n",
       "50%           0.000000         0.000000     0.000000     1.000000   \n",
       "75%           0.000000         0.000000     1.000000     1.000000   \n",
       "max           1.000000         1.000000     1.000000     1.000000   \n",
       "\n",
       "       hydraulic_disc_brakes  mechanical_disc_brakes      fd_rank  \\\n",
       "count            3208.000000             3208.000000  3208.000000   \n",
       "mean                0.263716                0.045511     2.594405   \n",
       "std                 0.440716                0.208455     1.075365   \n",
       "min                 0.000000                0.000000     0.500000   \n",
       "25%                 0.000000                0.000000     2.000000   \n",
       "50%                 0.000000                0.000000     3.000000   \n",
       "75%                 1.000000                0.000000     3.000000   \n",
       "max                 1.000000                1.000000     5.000000   \n",
       "\n",
       "           rd_rank  shifter_rank          age  \n",
       "count  3208.000000   3208.000000  3208.000000  \n",
       "mean      2.659243      2.670277     0.898379  \n",
       "std       0.994622      0.970122     0.540494  \n",
       "min       0.500000      0.500000     0.000000  \n",
       "25%       2.000000      2.000000     1.000000  \n",
       "50%       3.000000      3.000000     1.000000  \n",
       "75%       3.000000      3.000000     1.000000  \n",
       "max       5.000000      5.000000     5.000000  "
      ]
     },
     "execution_count": 150,
     "metadata": {},
     "output_type": "execute_result"
    }
   ],
   "source": [
    "model_df.describe()"
   ]
  },
  {
   "cell_type": "code",
   "execution_count": 151,
   "metadata": {},
   "outputs": [
    {
     "data": {
      "text/plain": [
       "price                     1.000000\n",
       "fd_rank                   0.755484\n",
       "shifter_rank              0.736699\n",
       "rd_rank                   0.736004\n",
       "carbon_frame              0.556254\n",
       "carbon_seatpost           0.285804\n",
       "carbon_handlebar          0.231273\n",
       "carbon_crankset           0.176920\n",
       "carbon_fork               0.060899\n",
       "titanium_frame            0.051804\n",
       "age                      -0.025465\n",
       "hydraulic_disc_brakes    -0.033276\n",
       "disc_brakes              -0.033598\n",
       "mechanical_disc_brakes   -0.217040\n",
       "Name: price, dtype: float64"
      ]
     },
     "execution_count": 151,
     "metadata": {},
     "output_type": "execute_result"
    }
   ],
   "source": [
    "corr = model_df.corr()\n",
    "corr['price'].sort_values(ascending=False)"
   ]
  },
  {
   "cell_type": "code",
   "execution_count": 152,
   "metadata": {},
   "outputs": [
    {
     "name": "stdout",
     "output_type": "stream",
     "text": [
      "<class 'pandas.core.frame.DataFrame'>\n",
      "Int64Index: 3208 entries, 7052 to 2686\n",
      "Data columns (total 13 columns):\n",
      "carbon_frame              3208 non-null int64\n",
      "titanium_frame            3208 non-null int64\n",
      "carbon_handlebar          3208 non-null int64\n",
      "carbon_crankset           3208 non-null int64\n",
      "carbon_seatpost           3208 non-null int64\n",
      "carbon_fork               3208 non-null int64\n",
      "disc_brakes               3208 non-null int64\n",
      "hydraulic_disc_brakes     3208 non-null int64\n",
      "mechanical_disc_brakes    3208 non-null int64\n",
      "fd_rank                   3208 non-null float64\n",
      "rd_rank                   3208 non-null float64\n",
      "shifter_rank              3208 non-null float64\n",
      "age                       3208 non-null float64\n",
      "dtypes: float64(4), int64(9)\n",
      "memory usage: 350.9 KB\n"
     ]
    }
   ],
   "source": [
    "model_x = model_df.copy()\n",
    "model_y = model_x.pop('price').values\n",
    "model_x.info()"
   ]
  },
  {
   "cell_type": "code",
   "execution_count": 153,
   "metadata": {},
   "outputs": [],
   "source": [
    "from sklearn import linear_model\n",
    "regr = linear_model.LinearRegression()"
   ]
  },
  {
   "cell_type": "code",
   "execution_count": 154,
   "metadata": {},
   "outputs": [
    {
     "data": {
      "text/plain": [
       "LinearRegression(copy_X=True, fit_intercept=True, n_jobs=None,\n",
       "         normalize=False)"
      ]
     },
     "execution_count": 154,
     "metadata": {},
     "output_type": "execute_result"
    }
   ],
   "source": [
    "regr.fit(X=model_x.values, y=model_y)"
   ]
  },
  {
   "cell_type": "code",
   "execution_count": 155,
   "metadata": {},
   "outputs": [
    {
     "data": {
      "text/plain": [
       "array([2669.20730676, 2208.57399649, 2763.93551592, ..., 2254.92805255,\n",
       "       1776.53643035, 1086.98150787])"
      ]
     },
     "execution_count": 155,
     "metadata": {},
     "output_type": "execute_result"
    }
   ],
   "source": [
    "regr.predict(model_x.values)"
   ]
  },
  {
   "cell_type": "code",
   "execution_count": 156,
   "metadata": {
    "scrolled": true
   },
   "outputs": [
    {
     "data": {
      "text/plain": [
       "array([2649.  , 2199.  , 4500.  , ...,  926.99,  869.99,  950.  ])"
      ]
     },
     "execution_count": 156,
     "metadata": {},
     "output_type": "execute_result"
    }
   ],
   "source": [
    "model_y"
   ]
  },
  {
   "cell_type": "code",
   "execution_count": 157,
   "metadata": {
    "scrolled": true
   },
   "outputs": [
    {
     "data": {
      "text/html": [
       "<div>\n",
       "<style scoped>\n",
       "    .dataframe tbody tr th:only-of-type {\n",
       "        vertical-align: middle;\n",
       "    }\n",
       "\n",
       "    .dataframe tbody tr th {\n",
       "        vertical-align: top;\n",
       "    }\n",
       "\n",
       "    .dataframe thead th {\n",
       "        text-align: right;\n",
       "    }\n",
       "</style>\n",
       "<table border=\"1\" class=\"dataframe\">\n",
       "  <thead>\n",
       "    <tr style=\"text-align: right;\">\n",
       "      <th></th>\n",
       "      <th>carbon_frame</th>\n",
       "      <th>titanium_frame</th>\n",
       "      <th>carbon_handlebar</th>\n",
       "      <th>carbon_crankset</th>\n",
       "      <th>carbon_seatpost</th>\n",
       "      <th>carbon_fork</th>\n",
       "      <th>disc_brakes</th>\n",
       "      <th>hydraulic_disc_brakes</th>\n",
       "      <th>mechanical_disc_brakes</th>\n",
       "      <th>fd_rank</th>\n",
       "      <th>rd_rank</th>\n",
       "      <th>shifter_rank</th>\n",
       "      <th>age</th>\n",
       "    </tr>\n",
       "  </thead>\n",
       "  <tbody>\n",
       "    <tr>\n",
       "      <th>7052</th>\n",
       "      <td>1</td>\n",
       "      <td>0</td>\n",
       "      <td>0</td>\n",
       "      <td>0</td>\n",
       "      <td>1</td>\n",
       "      <td>1</td>\n",
       "      <td>0</td>\n",
       "      <td>0</td>\n",
       "      <td>0</td>\n",
       "      <td>3.00</td>\n",
       "      <td>3.00</td>\n",
       "      <td>3.00</td>\n",
       "      <td>1.0</td>\n",
       "    </tr>\n",
       "    <tr>\n",
       "      <th>6990</th>\n",
       "      <td>0</td>\n",
       "      <td>0</td>\n",
       "      <td>0</td>\n",
       "      <td>0</td>\n",
       "      <td>1</td>\n",
       "      <td>1</td>\n",
       "      <td>1</td>\n",
       "      <td>0</td>\n",
       "      <td>0</td>\n",
       "      <td>3.00</td>\n",
       "      <td>3.00</td>\n",
       "      <td>3.00</td>\n",
       "      <td>1.0</td>\n",
       "    </tr>\n",
       "    <tr>\n",
       "      <th>4878</th>\n",
       "      <td>0</td>\n",
       "      <td>0</td>\n",
       "      <td>0</td>\n",
       "      <td>0</td>\n",
       "      <td>0</td>\n",
       "      <td>1</td>\n",
       "      <td>0</td>\n",
       "      <td>0</td>\n",
       "      <td>0</td>\n",
       "      <td>4.00</td>\n",
       "      <td>4.00</td>\n",
       "      <td>4.00</td>\n",
       "      <td>0.0</td>\n",
       "    </tr>\n",
       "    <tr>\n",
       "      <th>1882</th>\n",
       "      <td>1</td>\n",
       "      <td>0</td>\n",
       "      <td>0</td>\n",
       "      <td>0</td>\n",
       "      <td>0</td>\n",
       "      <td>0</td>\n",
       "      <td>1</td>\n",
       "      <td>0</td>\n",
       "      <td>0</td>\n",
       "      <td>2.75</td>\n",
       "      <td>2.75</td>\n",
       "      <td>2.75</td>\n",
       "      <td>1.0</td>\n",
       "    </tr>\n",
       "    <tr>\n",
       "      <th>2643</th>\n",
       "      <td>0</td>\n",
       "      <td>0</td>\n",
       "      <td>0</td>\n",
       "      <td>0</td>\n",
       "      <td>0</td>\n",
       "      <td>0</td>\n",
       "      <td>0</td>\n",
       "      <td>0</td>\n",
       "      <td>0</td>\n",
       "      <td>3.00</td>\n",
       "      <td>3.00</td>\n",
       "      <td>3.00</td>\n",
       "      <td>1.0</td>\n",
       "    </tr>\n",
       "    <tr>\n",
       "      <th>6971</th>\n",
       "      <td>1</td>\n",
       "      <td>0</td>\n",
       "      <td>0</td>\n",
       "      <td>0</td>\n",
       "      <td>0</td>\n",
       "      <td>1</td>\n",
       "      <td>1</td>\n",
       "      <td>0</td>\n",
       "      <td>0</td>\n",
       "      <td>2.50</td>\n",
       "      <td>2.50</td>\n",
       "      <td>2.50</td>\n",
       "      <td>1.0</td>\n",
       "    </tr>\n",
       "    <tr>\n",
       "      <th>1812</th>\n",
       "      <td>0</td>\n",
       "      <td>0</td>\n",
       "      <td>0</td>\n",
       "      <td>0</td>\n",
       "      <td>0</td>\n",
       "      <td>0</td>\n",
       "      <td>1</td>\n",
       "      <td>0</td>\n",
       "      <td>0</td>\n",
       "      <td>2.75</td>\n",
       "      <td>2.75</td>\n",
       "      <td>2.75</td>\n",
       "      <td>1.0</td>\n",
       "    </tr>\n",
       "    <tr>\n",
       "      <th>2563</th>\n",
       "      <td>0</td>\n",
       "      <td>0</td>\n",
       "      <td>0</td>\n",
       "      <td>0</td>\n",
       "      <td>1</td>\n",
       "      <td>1</td>\n",
       "      <td>1</td>\n",
       "      <td>0</td>\n",
       "      <td>0</td>\n",
       "      <td>3.00</td>\n",
       "      <td>3.00</td>\n",
       "      <td>3.00</td>\n",
       "      <td>1.0</td>\n",
       "    </tr>\n",
       "    <tr>\n",
       "      <th>3443</th>\n",
       "      <td>0</td>\n",
       "      <td>0</td>\n",
       "      <td>0</td>\n",
       "      <td>0</td>\n",
       "      <td>0</td>\n",
       "      <td>0</td>\n",
       "      <td>0</td>\n",
       "      <td>0</td>\n",
       "      <td>0</td>\n",
       "      <td>0.50</td>\n",
       "      <td>0.50</td>\n",
       "      <td>1.50</td>\n",
       "      <td>1.0</td>\n",
       "    </tr>\n",
       "    <tr>\n",
       "      <th>2088</th>\n",
       "      <td>0</td>\n",
       "      <td>0</td>\n",
       "      <td>0</td>\n",
       "      <td>0</td>\n",
       "      <td>0</td>\n",
       "      <td>0</td>\n",
       "      <td>1</td>\n",
       "      <td>0</td>\n",
       "      <td>0</td>\n",
       "      <td>2.75</td>\n",
       "      <td>2.75</td>\n",
       "      <td>2.75</td>\n",
       "      <td>1.0</td>\n",
       "    </tr>\n",
       "    <tr>\n",
       "      <th>7796</th>\n",
       "      <td>0</td>\n",
       "      <td>0</td>\n",
       "      <td>0</td>\n",
       "      <td>0</td>\n",
       "      <td>0</td>\n",
       "      <td>0</td>\n",
       "      <td>1</td>\n",
       "      <td>0</td>\n",
       "      <td>0</td>\n",
       "      <td>3.25</td>\n",
       "      <td>3.25</td>\n",
       "      <td>3.25</td>\n",
       "      <td>1.0</td>\n",
       "    </tr>\n",
       "    <tr>\n",
       "      <th>6718</th>\n",
       "      <td>1</td>\n",
       "      <td>0</td>\n",
       "      <td>0</td>\n",
       "      <td>0</td>\n",
       "      <td>1</td>\n",
       "      <td>0</td>\n",
       "      <td>1</td>\n",
       "      <td>1</td>\n",
       "      <td>0</td>\n",
       "      <td>4.00</td>\n",
       "      <td>4.00</td>\n",
       "      <td>4.00</td>\n",
       "      <td>1.0</td>\n",
       "    </tr>\n",
       "    <tr>\n",
       "      <th>782</th>\n",
       "      <td>0</td>\n",
       "      <td>0</td>\n",
       "      <td>0</td>\n",
       "      <td>0</td>\n",
       "      <td>0</td>\n",
       "      <td>0</td>\n",
       "      <td>1</td>\n",
       "      <td>0</td>\n",
       "      <td>1</td>\n",
       "      <td>2.75</td>\n",
       "      <td>2.75</td>\n",
       "      <td>2.75</td>\n",
       "      <td>3.0</td>\n",
       "    </tr>\n",
       "    <tr>\n",
       "      <th>5934</th>\n",
       "      <td>1</td>\n",
       "      <td>0</td>\n",
       "      <td>0</td>\n",
       "      <td>0</td>\n",
       "      <td>0</td>\n",
       "      <td>1</td>\n",
       "      <td>1</td>\n",
       "      <td>1</td>\n",
       "      <td>0</td>\n",
       "      <td>3.00</td>\n",
       "      <td>3.00</td>\n",
       "      <td>3.00</td>\n",
       "      <td>1.0</td>\n",
       "    </tr>\n",
       "    <tr>\n",
       "      <th>5126</th>\n",
       "      <td>0</td>\n",
       "      <td>1</td>\n",
       "      <td>0</td>\n",
       "      <td>0</td>\n",
       "      <td>0</td>\n",
       "      <td>0</td>\n",
       "      <td>0</td>\n",
       "      <td>0</td>\n",
       "      <td>0</td>\n",
       "      <td>4.00</td>\n",
       "      <td>4.00</td>\n",
       "      <td>4.00</td>\n",
       "      <td>1.0</td>\n",
       "    </tr>\n",
       "    <tr>\n",
       "      <th>6289</th>\n",
       "      <td>1</td>\n",
       "      <td>0</td>\n",
       "      <td>0</td>\n",
       "      <td>0</td>\n",
       "      <td>1</td>\n",
       "      <td>1</td>\n",
       "      <td>0</td>\n",
       "      <td>0</td>\n",
       "      <td>0</td>\n",
       "      <td>4.00</td>\n",
       "      <td>4.00</td>\n",
       "      <td>4.00</td>\n",
       "      <td>1.0</td>\n",
       "    </tr>\n",
       "    <tr>\n",
       "      <th>3950</th>\n",
       "      <td>1</td>\n",
       "      <td>0</td>\n",
       "      <td>0</td>\n",
       "      <td>0</td>\n",
       "      <td>1</td>\n",
       "      <td>1</td>\n",
       "      <td>0</td>\n",
       "      <td>0</td>\n",
       "      <td>0</td>\n",
       "      <td>4.00</td>\n",
       "      <td>4.00</td>\n",
       "      <td>4.00</td>\n",
       "      <td>0.0</td>\n",
       "    </tr>\n",
       "    <tr>\n",
       "      <th>1368</th>\n",
       "      <td>0</td>\n",
       "      <td>0</td>\n",
       "      <td>0</td>\n",
       "      <td>0</td>\n",
       "      <td>0</td>\n",
       "      <td>1</td>\n",
       "      <td>1</td>\n",
       "      <td>0</td>\n",
       "      <td>0</td>\n",
       "      <td>3.00</td>\n",
       "      <td>3.00</td>\n",
       "      <td>3.00</td>\n",
       "      <td>1.0</td>\n",
       "    </tr>\n",
       "    <tr>\n",
       "      <th>1480</th>\n",
       "      <td>0</td>\n",
       "      <td>0</td>\n",
       "      <td>0</td>\n",
       "      <td>0</td>\n",
       "      <td>0</td>\n",
       "      <td>1</td>\n",
       "      <td>1</td>\n",
       "      <td>0</td>\n",
       "      <td>0</td>\n",
       "      <td>3.00</td>\n",
       "      <td>3.00</td>\n",
       "      <td>3.00</td>\n",
       "      <td>1.0</td>\n",
       "    </tr>\n",
       "    <tr>\n",
       "      <th>329</th>\n",
       "      <td>0</td>\n",
       "      <td>0</td>\n",
       "      <td>0</td>\n",
       "      <td>0</td>\n",
       "      <td>0</td>\n",
       "      <td>1</td>\n",
       "      <td>0</td>\n",
       "      <td>0</td>\n",
       "      <td>0</td>\n",
       "      <td>4.00</td>\n",
       "      <td>4.00</td>\n",
       "      <td>4.00</td>\n",
       "      <td>1.0</td>\n",
       "    </tr>\n",
       "    <tr>\n",
       "      <th>4944</th>\n",
       "      <td>0</td>\n",
       "      <td>0</td>\n",
       "      <td>0</td>\n",
       "      <td>0</td>\n",
       "      <td>0</td>\n",
       "      <td>0</td>\n",
       "      <td>1</td>\n",
       "      <td>0</td>\n",
       "      <td>0</td>\n",
       "      <td>3.00</td>\n",
       "      <td>3.00</td>\n",
       "      <td>3.00</td>\n",
       "      <td>0.0</td>\n",
       "    </tr>\n",
       "    <tr>\n",
       "      <th>251</th>\n",
       "      <td>0</td>\n",
       "      <td>0</td>\n",
       "      <td>0</td>\n",
       "      <td>0</td>\n",
       "      <td>0</td>\n",
       "      <td>1</td>\n",
       "      <td>0</td>\n",
       "      <td>0</td>\n",
       "      <td>0</td>\n",
       "      <td>3.00</td>\n",
       "      <td>3.00</td>\n",
       "      <td>3.00</td>\n",
       "      <td>1.0</td>\n",
       "    </tr>\n",
       "    <tr>\n",
       "      <th>3262</th>\n",
       "      <td>0</td>\n",
       "      <td>0</td>\n",
       "      <td>0</td>\n",
       "      <td>0</td>\n",
       "      <td>0</td>\n",
       "      <td>0</td>\n",
       "      <td>1</td>\n",
       "      <td>0</td>\n",
       "      <td>0</td>\n",
       "      <td>2.00</td>\n",
       "      <td>2.00</td>\n",
       "      <td>2.00</td>\n",
       "      <td>0.0</td>\n",
       "    </tr>\n",
       "    <tr>\n",
       "      <th>2560</th>\n",
       "      <td>0</td>\n",
       "      <td>0</td>\n",
       "      <td>0</td>\n",
       "      <td>0</td>\n",
       "      <td>0</td>\n",
       "      <td>0</td>\n",
       "      <td>0</td>\n",
       "      <td>0</td>\n",
       "      <td>0</td>\n",
       "      <td>2.50</td>\n",
       "      <td>2.50</td>\n",
       "      <td>2.50</td>\n",
       "      <td>1.0</td>\n",
       "    </tr>\n",
       "    <tr>\n",
       "      <th>3296</th>\n",
       "      <td>1</td>\n",
       "      <td>0</td>\n",
       "      <td>0</td>\n",
       "      <td>0</td>\n",
       "      <td>0</td>\n",
       "      <td>0</td>\n",
       "      <td>0</td>\n",
       "      <td>0</td>\n",
       "      <td>0</td>\n",
       "      <td>4.00</td>\n",
       "      <td>4.00</td>\n",
       "      <td>4.00</td>\n",
       "      <td>1.0</td>\n",
       "    </tr>\n",
       "    <tr>\n",
       "      <th>8189</th>\n",
       "      <td>0</td>\n",
       "      <td>0</td>\n",
       "      <td>0</td>\n",
       "      <td>0</td>\n",
       "      <td>0</td>\n",
       "      <td>0</td>\n",
       "      <td>1</td>\n",
       "      <td>0</td>\n",
       "      <td>0</td>\n",
       "      <td>1.50</td>\n",
       "      <td>1.50</td>\n",
       "      <td>1.50</td>\n",
       "      <td>1.0</td>\n",
       "    </tr>\n",
       "    <tr>\n",
       "      <th>2859</th>\n",
       "      <td>1</td>\n",
       "      <td>0</td>\n",
       "      <td>0</td>\n",
       "      <td>0</td>\n",
       "      <td>0</td>\n",
       "      <td>0</td>\n",
       "      <td>1</td>\n",
       "      <td>0</td>\n",
       "      <td>0</td>\n",
       "      <td>3.00</td>\n",
       "      <td>3.00</td>\n",
       "      <td>3.00</td>\n",
       "      <td>1.0</td>\n",
       "    </tr>\n",
       "    <tr>\n",
       "      <th>2941</th>\n",
       "      <td>0</td>\n",
       "      <td>0</td>\n",
       "      <td>0</td>\n",
       "      <td>0</td>\n",
       "      <td>0</td>\n",
       "      <td>0</td>\n",
       "      <td>1</td>\n",
       "      <td>0</td>\n",
       "      <td>0</td>\n",
       "      <td>3.00</td>\n",
       "      <td>3.00</td>\n",
       "      <td>3.00</td>\n",
       "      <td>0.0</td>\n",
       "    </tr>\n",
       "    <tr>\n",
       "      <th>5716</th>\n",
       "      <td>0</td>\n",
       "      <td>0</td>\n",
       "      <td>0</td>\n",
       "      <td>0</td>\n",
       "      <td>0</td>\n",
       "      <td>1</td>\n",
       "      <td>1</td>\n",
       "      <td>0</td>\n",
       "      <td>0</td>\n",
       "      <td>3.00</td>\n",
       "      <td>3.00</td>\n",
       "      <td>3.00</td>\n",
       "      <td>0.0</td>\n",
       "    </tr>\n",
       "    <tr>\n",
       "      <th>940</th>\n",
       "      <td>1</td>\n",
       "      <td>0</td>\n",
       "      <td>0</td>\n",
       "      <td>0</td>\n",
       "      <td>0</td>\n",
       "      <td>1</td>\n",
       "      <td>0</td>\n",
       "      <td>0</td>\n",
       "      <td>0</td>\n",
       "      <td>4.00</td>\n",
       "      <td>4.00</td>\n",
       "      <td>4.00</td>\n",
       "      <td>2.0</td>\n",
       "    </tr>\n",
       "    <tr>\n",
       "      <th>...</th>\n",
       "      <td>...</td>\n",
       "      <td>...</td>\n",
       "      <td>...</td>\n",
       "      <td>...</td>\n",
       "      <td>...</td>\n",
       "      <td>...</td>\n",
       "      <td>...</td>\n",
       "      <td>...</td>\n",
       "      <td>...</td>\n",
       "      <td>...</td>\n",
       "      <td>...</td>\n",
       "      <td>...</td>\n",
       "      <td>...</td>\n",
       "    </tr>\n",
       "    <tr>\n",
       "      <th>9321</th>\n",
       "      <td>0</td>\n",
       "      <td>0</td>\n",
       "      <td>0</td>\n",
       "      <td>0</td>\n",
       "      <td>0</td>\n",
       "      <td>0</td>\n",
       "      <td>1</td>\n",
       "      <td>0</td>\n",
       "      <td>0</td>\n",
       "      <td>3.25</td>\n",
       "      <td>3.25</td>\n",
       "      <td>3.25</td>\n",
       "      <td>1.0</td>\n",
       "    </tr>\n",
       "    <tr>\n",
       "      <th>2440</th>\n",
       "      <td>1</td>\n",
       "      <td>0</td>\n",
       "      <td>0</td>\n",
       "      <td>0</td>\n",
       "      <td>0</td>\n",
       "      <td>1</td>\n",
       "      <td>0</td>\n",
       "      <td>0</td>\n",
       "      <td>0</td>\n",
       "      <td>4.00</td>\n",
       "      <td>4.00</td>\n",
       "      <td>4.00</td>\n",
       "      <td>1.0</td>\n",
       "    </tr>\n",
       "    <tr>\n",
       "      <th>3581</th>\n",
       "      <td>0</td>\n",
       "      <td>0</td>\n",
       "      <td>0</td>\n",
       "      <td>0</td>\n",
       "      <td>0</td>\n",
       "      <td>0</td>\n",
       "      <td>1</td>\n",
       "      <td>0</td>\n",
       "      <td>0</td>\n",
       "      <td>2.00</td>\n",
       "      <td>2.00</td>\n",
       "      <td>2.00</td>\n",
       "      <td>2.0</td>\n",
       "    </tr>\n",
       "    <tr>\n",
       "      <th>8228</th>\n",
       "      <td>1</td>\n",
       "      <td>0</td>\n",
       "      <td>0</td>\n",
       "      <td>0</td>\n",
       "      <td>0</td>\n",
       "      <td>0</td>\n",
       "      <td>1</td>\n",
       "      <td>0</td>\n",
       "      <td>0</td>\n",
       "      <td>3.00</td>\n",
       "      <td>3.00</td>\n",
       "      <td>3.00</td>\n",
       "      <td>1.0</td>\n",
       "    </tr>\n",
       "    <tr>\n",
       "      <th>7011</th>\n",
       "      <td>1</td>\n",
       "      <td>0</td>\n",
       "      <td>0</td>\n",
       "      <td>0</td>\n",
       "      <td>1</td>\n",
       "      <td>1</td>\n",
       "      <td>0</td>\n",
       "      <td>0</td>\n",
       "      <td>0</td>\n",
       "      <td>4.00</td>\n",
       "      <td>4.00</td>\n",
       "      <td>4.00</td>\n",
       "      <td>1.0</td>\n",
       "    </tr>\n",
       "    <tr>\n",
       "      <th>707</th>\n",
       "      <td>0</td>\n",
       "      <td>0</td>\n",
       "      <td>0</td>\n",
       "      <td>0</td>\n",
       "      <td>0</td>\n",
       "      <td>1</td>\n",
       "      <td>1</td>\n",
       "      <td>1</td>\n",
       "      <td>0</td>\n",
       "      <td>2.50</td>\n",
       "      <td>2.50</td>\n",
       "      <td>2.50</td>\n",
       "      <td>1.0</td>\n",
       "    </tr>\n",
       "    <tr>\n",
       "      <th>4061</th>\n",
       "      <td>1</td>\n",
       "      <td>0</td>\n",
       "      <td>0</td>\n",
       "      <td>0</td>\n",
       "      <td>0</td>\n",
       "      <td>0</td>\n",
       "      <td>1</td>\n",
       "      <td>0</td>\n",
       "      <td>0</td>\n",
       "      <td>3.25</td>\n",
       "      <td>3.25</td>\n",
       "      <td>3.25</td>\n",
       "      <td>1.0</td>\n",
       "    </tr>\n",
       "    <tr>\n",
       "      <th>3589</th>\n",
       "      <td>0</td>\n",
       "      <td>0</td>\n",
       "      <td>0</td>\n",
       "      <td>0</td>\n",
       "      <td>0</td>\n",
       "      <td>0</td>\n",
       "      <td>1</td>\n",
       "      <td>0</td>\n",
       "      <td>0</td>\n",
       "      <td>1.00</td>\n",
       "      <td>2.00</td>\n",
       "      <td>1.00</td>\n",
       "      <td>1.0</td>\n",
       "    </tr>\n",
       "    <tr>\n",
       "      <th>3353</th>\n",
       "      <td>0</td>\n",
       "      <td>0</td>\n",
       "      <td>0</td>\n",
       "      <td>0</td>\n",
       "      <td>0</td>\n",
       "      <td>0</td>\n",
       "      <td>1</td>\n",
       "      <td>0</td>\n",
       "      <td>0</td>\n",
       "      <td>2.50</td>\n",
       "      <td>2.50</td>\n",
       "      <td>2.50</td>\n",
       "      <td>1.0</td>\n",
       "    </tr>\n",
       "    <tr>\n",
       "      <th>162</th>\n",
       "      <td>0</td>\n",
       "      <td>0</td>\n",
       "      <td>0</td>\n",
       "      <td>0</td>\n",
       "      <td>0</td>\n",
       "      <td>0</td>\n",
       "      <td>1</td>\n",
       "      <td>0</td>\n",
       "      <td>0</td>\n",
       "      <td>3.00</td>\n",
       "      <td>3.00</td>\n",
       "      <td>3.00</td>\n",
       "      <td>0.0</td>\n",
       "    </tr>\n",
       "    <tr>\n",
       "      <th>2507</th>\n",
       "      <td>1</td>\n",
       "      <td>0</td>\n",
       "      <td>0</td>\n",
       "      <td>0</td>\n",
       "      <td>1</td>\n",
       "      <td>1</td>\n",
       "      <td>1</td>\n",
       "      <td>0</td>\n",
       "      <td>0</td>\n",
       "      <td>3.00</td>\n",
       "      <td>3.00</td>\n",
       "      <td>3.00</td>\n",
       "      <td>1.0</td>\n",
       "    </tr>\n",
       "    <tr>\n",
       "      <th>5245</th>\n",
       "      <td>1</td>\n",
       "      <td>0</td>\n",
       "      <td>0</td>\n",
       "      <td>0</td>\n",
       "      <td>0</td>\n",
       "      <td>1</td>\n",
       "      <td>1</td>\n",
       "      <td>0</td>\n",
       "      <td>0</td>\n",
       "      <td>2.50</td>\n",
       "      <td>2.50</td>\n",
       "      <td>2.50</td>\n",
       "      <td>1.0</td>\n",
       "    </tr>\n",
       "    <tr>\n",
       "      <th>1240</th>\n",
       "      <td>0</td>\n",
       "      <td>0</td>\n",
       "      <td>0</td>\n",
       "      <td>0</td>\n",
       "      <td>0</td>\n",
       "      <td>0</td>\n",
       "      <td>1</td>\n",
       "      <td>0</td>\n",
       "      <td>0</td>\n",
       "      <td>2.75</td>\n",
       "      <td>2.75</td>\n",
       "      <td>2.75</td>\n",
       "      <td>1.0</td>\n",
       "    </tr>\n",
       "    <tr>\n",
       "      <th>4134</th>\n",
       "      <td>1</td>\n",
       "      <td>0</td>\n",
       "      <td>0</td>\n",
       "      <td>0</td>\n",
       "      <td>0</td>\n",
       "      <td>0</td>\n",
       "      <td>1</td>\n",
       "      <td>0</td>\n",
       "      <td>0</td>\n",
       "      <td>3.25</td>\n",
       "      <td>3.25</td>\n",
       "      <td>3.25</td>\n",
       "      <td>2.0</td>\n",
       "    </tr>\n",
       "    <tr>\n",
       "      <th>415</th>\n",
       "      <td>0</td>\n",
       "      <td>0</td>\n",
       "      <td>0</td>\n",
       "      <td>0</td>\n",
       "      <td>0</td>\n",
       "      <td>0</td>\n",
       "      <td>1</td>\n",
       "      <td>0</td>\n",
       "      <td>0</td>\n",
       "      <td>2.00</td>\n",
       "      <td>2.75</td>\n",
       "      <td>2.00</td>\n",
       "      <td>1.0</td>\n",
       "    </tr>\n",
       "    <tr>\n",
       "      <th>3153</th>\n",
       "      <td>0</td>\n",
       "      <td>0</td>\n",
       "      <td>0</td>\n",
       "      <td>0</td>\n",
       "      <td>0</td>\n",
       "      <td>0</td>\n",
       "      <td>1</td>\n",
       "      <td>0</td>\n",
       "      <td>0</td>\n",
       "      <td>1.00</td>\n",
       "      <td>1.50</td>\n",
       "      <td>1.00</td>\n",
       "      <td>0.0</td>\n",
       "    </tr>\n",
       "    <tr>\n",
       "      <th>2954</th>\n",
       "      <td>1</td>\n",
       "      <td>0</td>\n",
       "      <td>0</td>\n",
       "      <td>0</td>\n",
       "      <td>0</td>\n",
       "      <td>0</td>\n",
       "      <td>1</td>\n",
       "      <td>1</td>\n",
       "      <td>0</td>\n",
       "      <td>2.75</td>\n",
       "      <td>2.75</td>\n",
       "      <td>2.75</td>\n",
       "      <td>0.0</td>\n",
       "    </tr>\n",
       "    <tr>\n",
       "      <th>9435</th>\n",
       "      <td>1</td>\n",
       "      <td>0</td>\n",
       "      <td>0</td>\n",
       "      <td>0</td>\n",
       "      <td>0</td>\n",
       "      <td>0</td>\n",
       "      <td>1</td>\n",
       "      <td>1</td>\n",
       "      <td>0</td>\n",
       "      <td>3.25</td>\n",
       "      <td>3.25</td>\n",
       "      <td>3.25</td>\n",
       "      <td>1.0</td>\n",
       "    </tr>\n",
       "    <tr>\n",
       "      <th>7266</th>\n",
       "      <td>0</td>\n",
       "      <td>0</td>\n",
       "      <td>0</td>\n",
       "      <td>0</td>\n",
       "      <td>0</td>\n",
       "      <td>0</td>\n",
       "      <td>1</td>\n",
       "      <td>0</td>\n",
       "      <td>0</td>\n",
       "      <td>3.25</td>\n",
       "      <td>3.25</td>\n",
       "      <td>3.25</td>\n",
       "      <td>1.0</td>\n",
       "    </tr>\n",
       "    <tr>\n",
       "      <th>5430</th>\n",
       "      <td>0</td>\n",
       "      <td>0</td>\n",
       "      <td>0</td>\n",
       "      <td>0</td>\n",
       "      <td>0</td>\n",
       "      <td>0</td>\n",
       "      <td>1</td>\n",
       "      <td>0</td>\n",
       "      <td>1</td>\n",
       "      <td>0.50</td>\n",
       "      <td>0.50</td>\n",
       "      <td>0.50</td>\n",
       "      <td>1.0</td>\n",
       "    </tr>\n",
       "    <tr>\n",
       "      <th>898</th>\n",
       "      <td>0</td>\n",
       "      <td>0</td>\n",
       "      <td>0</td>\n",
       "      <td>0</td>\n",
       "      <td>0</td>\n",
       "      <td>0</td>\n",
       "      <td>1</td>\n",
       "      <td>0</td>\n",
       "      <td>1</td>\n",
       "      <td>1.00</td>\n",
       "      <td>1.00</td>\n",
       "      <td>1.00</td>\n",
       "      <td>1.0</td>\n",
       "    </tr>\n",
       "    <tr>\n",
       "      <th>4187</th>\n",
       "      <td>1</td>\n",
       "      <td>0</td>\n",
       "      <td>0</td>\n",
       "      <td>0</td>\n",
       "      <td>0</td>\n",
       "      <td>0</td>\n",
       "      <td>1</td>\n",
       "      <td>0</td>\n",
       "      <td>0</td>\n",
       "      <td>3.00</td>\n",
       "      <td>3.00</td>\n",
       "      <td>3.00</td>\n",
       "      <td>0.0</td>\n",
       "    </tr>\n",
       "    <tr>\n",
       "      <th>5354</th>\n",
       "      <td>1</td>\n",
       "      <td>0</td>\n",
       "      <td>0</td>\n",
       "      <td>1</td>\n",
       "      <td>1</td>\n",
       "      <td>1</td>\n",
       "      <td>0</td>\n",
       "      <td>0</td>\n",
       "      <td>0</td>\n",
       "      <td>4.00</td>\n",
       "      <td>4.00</td>\n",
       "      <td>4.00</td>\n",
       "      <td>1.0</td>\n",
       "    </tr>\n",
       "    <tr>\n",
       "      <th>1719</th>\n",
       "      <td>0</td>\n",
       "      <td>0</td>\n",
       "      <td>0</td>\n",
       "      <td>0</td>\n",
       "      <td>0</td>\n",
       "      <td>0</td>\n",
       "      <td>1</td>\n",
       "      <td>1</td>\n",
       "      <td>0</td>\n",
       "      <td>1.00</td>\n",
       "      <td>1.50</td>\n",
       "      <td>1.00</td>\n",
       "      <td>1.0</td>\n",
       "    </tr>\n",
       "    <tr>\n",
       "      <th>2575</th>\n",
       "      <td>1</td>\n",
       "      <td>0</td>\n",
       "      <td>0</td>\n",
       "      <td>0</td>\n",
       "      <td>1</td>\n",
       "      <td>1</td>\n",
       "      <td>1</td>\n",
       "      <td>0</td>\n",
       "      <td>0</td>\n",
       "      <td>2.50</td>\n",
       "      <td>2.50</td>\n",
       "      <td>2.50</td>\n",
       "      <td>1.0</td>\n",
       "    </tr>\n",
       "    <tr>\n",
       "      <th>3448</th>\n",
       "      <td>0</td>\n",
       "      <td>0</td>\n",
       "      <td>0</td>\n",
       "      <td>0</td>\n",
       "      <td>0</td>\n",
       "      <td>0</td>\n",
       "      <td>0</td>\n",
       "      <td>0</td>\n",
       "      <td>0</td>\n",
       "      <td>0.50</td>\n",
       "      <td>1.00</td>\n",
       "      <td>2.25</td>\n",
       "      <td>1.0</td>\n",
       "    </tr>\n",
       "    <tr>\n",
       "      <th>6590</th>\n",
       "      <td>0</td>\n",
       "      <td>0</td>\n",
       "      <td>0</td>\n",
       "      <td>0</td>\n",
       "      <td>0</td>\n",
       "      <td>0</td>\n",
       "      <td>1</td>\n",
       "      <td>1</td>\n",
       "      <td>0</td>\n",
       "      <td>3.00</td>\n",
       "      <td>3.00</td>\n",
       "      <td>3.00</td>\n",
       "      <td>1.0</td>\n",
       "    </tr>\n",
       "    <tr>\n",
       "      <th>8498</th>\n",
       "      <td>0</td>\n",
       "      <td>0</td>\n",
       "      <td>0</td>\n",
       "      <td>0</td>\n",
       "      <td>0</td>\n",
       "      <td>0</td>\n",
       "      <td>1</td>\n",
       "      <td>0</td>\n",
       "      <td>0</td>\n",
       "      <td>2.50</td>\n",
       "      <td>2.50</td>\n",
       "      <td>2.50</td>\n",
       "      <td>1.0</td>\n",
       "    </tr>\n",
       "    <tr>\n",
       "      <th>1214</th>\n",
       "      <td>0</td>\n",
       "      <td>0</td>\n",
       "      <td>0</td>\n",
       "      <td>0</td>\n",
       "      <td>0</td>\n",
       "      <td>0</td>\n",
       "      <td>1</td>\n",
       "      <td>0</td>\n",
       "      <td>0</td>\n",
       "      <td>2.00</td>\n",
       "      <td>2.75</td>\n",
       "      <td>2.00</td>\n",
       "      <td>1.0</td>\n",
       "    </tr>\n",
       "    <tr>\n",
       "      <th>2686</th>\n",
       "      <td>0</td>\n",
       "      <td>0</td>\n",
       "      <td>0</td>\n",
       "      <td>0</td>\n",
       "      <td>0</td>\n",
       "      <td>1</td>\n",
       "      <td>0</td>\n",
       "      <td>0</td>\n",
       "      <td>0</td>\n",
       "      <td>2.00</td>\n",
       "      <td>2.00</td>\n",
       "      <td>2.00</td>\n",
       "      <td>0.0</td>\n",
       "    </tr>\n",
       "  </tbody>\n",
       "</table>\n",
       "<p>3208 rows × 13 columns</p>\n",
       "</div>"
      ],
      "text/plain": [
       "      carbon_frame  titanium_frame  carbon_handlebar  carbon_crankset  \\\n",
       "7052             1               0                 0                0   \n",
       "6990             0               0                 0                0   \n",
       "4878             0               0                 0                0   \n",
       "1882             1               0                 0                0   \n",
       "2643             0               0                 0                0   \n",
       "6971             1               0                 0                0   \n",
       "1812             0               0                 0                0   \n",
       "2563             0               0                 0                0   \n",
       "3443             0               0                 0                0   \n",
       "2088             0               0                 0                0   \n",
       "7796             0               0                 0                0   \n",
       "6718             1               0                 0                0   \n",
       "782              0               0                 0                0   \n",
       "5934             1               0                 0                0   \n",
       "5126             0               1                 0                0   \n",
       "6289             1               0                 0                0   \n",
       "3950             1               0                 0                0   \n",
       "1368             0               0                 0                0   \n",
       "1480             0               0                 0                0   \n",
       "329              0               0                 0                0   \n",
       "4944             0               0                 0                0   \n",
       "251              0               0                 0                0   \n",
       "3262             0               0                 0                0   \n",
       "2560             0               0                 0                0   \n",
       "3296             1               0                 0                0   \n",
       "8189             0               0                 0                0   \n",
       "2859             1               0                 0                0   \n",
       "2941             0               0                 0                0   \n",
       "5716             0               0                 0                0   \n",
       "940              1               0                 0                0   \n",
       "...            ...             ...               ...              ...   \n",
       "9321             0               0                 0                0   \n",
       "2440             1               0                 0                0   \n",
       "3581             0               0                 0                0   \n",
       "8228             1               0                 0                0   \n",
       "7011             1               0                 0                0   \n",
       "707              0               0                 0                0   \n",
       "4061             1               0                 0                0   \n",
       "3589             0               0                 0                0   \n",
       "3353             0               0                 0                0   \n",
       "162              0               0                 0                0   \n",
       "2507             1               0                 0                0   \n",
       "5245             1               0                 0                0   \n",
       "1240             0               0                 0                0   \n",
       "4134             1               0                 0                0   \n",
       "415              0               0                 0                0   \n",
       "3153             0               0                 0                0   \n",
       "2954             1               0                 0                0   \n",
       "9435             1               0                 0                0   \n",
       "7266             0               0                 0                0   \n",
       "5430             0               0                 0                0   \n",
       "898              0               0                 0                0   \n",
       "4187             1               0                 0                0   \n",
       "5354             1               0                 0                1   \n",
       "1719             0               0                 0                0   \n",
       "2575             1               0                 0                0   \n",
       "3448             0               0                 0                0   \n",
       "6590             0               0                 0                0   \n",
       "8498             0               0                 0                0   \n",
       "1214             0               0                 0                0   \n",
       "2686             0               0                 0                0   \n",
       "\n",
       "      carbon_seatpost  carbon_fork  disc_brakes  hydraulic_disc_brakes  \\\n",
       "7052                1            1            0                      0   \n",
       "6990                1            1            1                      0   \n",
       "4878                0            1            0                      0   \n",
       "1882                0            0            1                      0   \n",
       "2643                0            0            0                      0   \n",
       "6971                0            1            1                      0   \n",
       "1812                0            0            1                      0   \n",
       "2563                1            1            1                      0   \n",
       "3443                0            0            0                      0   \n",
       "2088                0            0            1                      0   \n",
       "7796                0            0            1                      0   \n",
       "6718                1            0            1                      1   \n",
       "782                 0            0            1                      0   \n",
       "5934                0            1            1                      1   \n",
       "5126                0            0            0                      0   \n",
       "6289                1            1            0                      0   \n",
       "3950                1            1            0                      0   \n",
       "1368                0            1            1                      0   \n",
       "1480                0            1            1                      0   \n",
       "329                 0            1            0                      0   \n",
       "4944                0            0            1                      0   \n",
       "251                 0            1            0                      0   \n",
       "3262                0            0            1                      0   \n",
       "2560                0            0            0                      0   \n",
       "3296                0            0            0                      0   \n",
       "8189                0            0            1                      0   \n",
       "2859                0            0            1                      0   \n",
       "2941                0            0            1                      0   \n",
       "5716                0            1            1                      0   \n",
       "940                 0            1            0                      0   \n",
       "...               ...          ...          ...                    ...   \n",
       "9321                0            0            1                      0   \n",
       "2440                0            1            0                      0   \n",
       "3581                0            0            1                      0   \n",
       "8228                0            0            1                      0   \n",
       "7011                1            1            0                      0   \n",
       "707                 0            1            1                      1   \n",
       "4061                0            0            1                      0   \n",
       "3589                0            0            1                      0   \n",
       "3353                0            0            1                      0   \n",
       "162                 0            0            1                      0   \n",
       "2507                1            1            1                      0   \n",
       "5245                0            1            1                      0   \n",
       "1240                0            0            1                      0   \n",
       "4134                0            0            1                      0   \n",
       "415                 0            0            1                      0   \n",
       "3153                0            0            1                      0   \n",
       "2954                0            0            1                      1   \n",
       "9435                0            0            1                      1   \n",
       "7266                0            0            1                      0   \n",
       "5430                0            0            1                      0   \n",
       "898                 0            0            1                      0   \n",
       "4187                0            0            1                      0   \n",
       "5354                1            1            0                      0   \n",
       "1719                0            0            1                      1   \n",
       "2575                1            1            1                      0   \n",
       "3448                0            0            0                      0   \n",
       "6590                0            0            1                      1   \n",
       "8498                0            0            1                      0   \n",
       "1214                0            0            1                      0   \n",
       "2686                0            1            0                      0   \n",
       "\n",
       "      mechanical_disc_brakes  fd_rank  rd_rank  shifter_rank  age  \n",
       "7052                       0     3.00     3.00          3.00  1.0  \n",
       "6990                       0     3.00     3.00          3.00  1.0  \n",
       "4878                       0     4.00     4.00          4.00  0.0  \n",
       "1882                       0     2.75     2.75          2.75  1.0  \n",
       "2643                       0     3.00     3.00          3.00  1.0  \n",
       "6971                       0     2.50     2.50          2.50  1.0  \n",
       "1812                       0     2.75     2.75          2.75  1.0  \n",
       "2563                       0     3.00     3.00          3.00  1.0  \n",
       "3443                       0     0.50     0.50          1.50  1.0  \n",
       "2088                       0     2.75     2.75          2.75  1.0  \n",
       "7796                       0     3.25     3.25          3.25  1.0  \n",
       "6718                       0     4.00     4.00          4.00  1.0  \n",
       "782                        1     2.75     2.75          2.75  3.0  \n",
       "5934                       0     3.00     3.00          3.00  1.0  \n",
       "5126                       0     4.00     4.00          4.00  1.0  \n",
       "6289                       0     4.00     4.00          4.00  1.0  \n",
       "3950                       0     4.00     4.00          4.00  0.0  \n",
       "1368                       0     3.00     3.00          3.00  1.0  \n",
       "1480                       0     3.00     3.00          3.00  1.0  \n",
       "329                        0     4.00     4.00          4.00  1.0  \n",
       "4944                       0     3.00     3.00          3.00  0.0  \n",
       "251                        0     3.00     3.00          3.00  1.0  \n",
       "3262                       0     2.00     2.00          2.00  0.0  \n",
       "2560                       0     2.50     2.50          2.50  1.0  \n",
       "3296                       0     4.00     4.00          4.00  1.0  \n",
       "8189                       0     1.50     1.50          1.50  1.0  \n",
       "2859                       0     3.00     3.00          3.00  1.0  \n",
       "2941                       0     3.00     3.00          3.00  0.0  \n",
       "5716                       0     3.00     3.00          3.00  0.0  \n",
       "940                        0     4.00     4.00          4.00  2.0  \n",
       "...                      ...      ...      ...           ...  ...  \n",
       "9321                       0     3.25     3.25          3.25  1.0  \n",
       "2440                       0     4.00     4.00          4.00  1.0  \n",
       "3581                       0     2.00     2.00          2.00  2.0  \n",
       "8228                       0     3.00     3.00          3.00  1.0  \n",
       "7011                       0     4.00     4.00          4.00  1.0  \n",
       "707                        0     2.50     2.50          2.50  1.0  \n",
       "4061                       0     3.25     3.25          3.25  1.0  \n",
       "3589                       0     1.00     2.00          1.00  1.0  \n",
       "3353                       0     2.50     2.50          2.50  1.0  \n",
       "162                        0     3.00     3.00          3.00  0.0  \n",
       "2507                       0     3.00     3.00          3.00  1.0  \n",
       "5245                       0     2.50     2.50          2.50  1.0  \n",
       "1240                       0     2.75     2.75          2.75  1.0  \n",
       "4134                       0     3.25     3.25          3.25  2.0  \n",
       "415                        0     2.00     2.75          2.00  1.0  \n",
       "3153                       0     1.00     1.50          1.00  0.0  \n",
       "2954                       0     2.75     2.75          2.75  0.0  \n",
       "9435                       0     3.25     3.25          3.25  1.0  \n",
       "7266                       0     3.25     3.25          3.25  1.0  \n",
       "5430                       1     0.50     0.50          0.50  1.0  \n",
       "898                        1     1.00     1.00          1.00  1.0  \n",
       "4187                       0     3.00     3.00          3.00  0.0  \n",
       "5354                       0     4.00     4.00          4.00  1.0  \n",
       "1719                       0     1.00     1.50          1.00  1.0  \n",
       "2575                       0     2.50     2.50          2.50  1.0  \n",
       "3448                       0     0.50     1.00          2.25  1.0  \n",
       "6590                       0     3.00     3.00          3.00  1.0  \n",
       "8498                       0     2.50     2.50          2.50  1.0  \n",
       "1214                       0     2.00     2.75          2.00  1.0  \n",
       "2686                       0     2.00     2.00          2.00  0.0  \n",
       "\n",
       "[3208 rows x 13 columns]"
      ]
     },
     "execution_count": 157,
     "metadata": {},
     "output_type": "execute_result"
    }
   ],
   "source": [
    "model_x"
   ]
  },
  {
   "cell_type": "code",
   "execution_count": 158,
   "metadata": {},
   "outputs": [
    {
     "data": {
      "text/plain": [
       "0.6651528001030775"
      ]
     },
     "execution_count": 158,
     "metadata": {},
     "output_type": "execute_result"
    }
   ],
   "source": [
    "regr.score(model_x, model_y)"
   ]
  },
  {
   "cell_type": "code",
   "execution_count": 159,
   "metadata": {},
   "outputs": [
    {
     "data": {
      "text/plain": [
       "ElasticNetCV(alphas=None, copy_X=True, cv=1000, eps=0.001, fit_intercept=True,\n",
       "       l1_ratio=0.5, max_iter=1000, n_alphas=100, n_jobs=None,\n",
       "       normalize=False, positive=False, precompute='auto',\n",
       "       random_state=None, selection='cyclic', tol=0.0001, verbose=0)"
      ]
     },
     "execution_count": 159,
     "metadata": {},
     "output_type": "execute_result"
    }
   ],
   "source": [
    "enet = linear_model.ElasticNetCV(cv=1000)\n",
    "enet.fit(X=model_x.values, y=model_y)"
   ]
  },
  {
   "cell_type": "code",
   "execution_count": 160,
   "metadata": {},
   "outputs": [
    {
     "data": {
      "text/plain": [
       "array([2639.17303968, 2537.77161219, 3231.94302702, ..., 2198.79010951,\n",
       "       2007.39599823, 1786.29783374])"
      ]
     },
     "execution_count": 160,
     "metadata": {},
     "output_type": "execute_result"
    }
   ],
   "source": [
    "enet.predict(model_x.values)"
   ]
  },
  {
   "cell_type": "code",
   "execution_count": 161,
   "metadata": {},
   "outputs": [
    {
     "data": {
      "text/plain": [
       "0.5525208981609941"
      ]
     },
     "execution_count": 161,
     "metadata": {},
     "output_type": "execute_result"
    }
   ],
   "source": [
    "enet.score(model_x, model_y)"
   ]
  },
  {
   "cell_type": "code",
   "execution_count": 162,
   "metadata": {},
   "outputs": [
    {
     "data": {
      "text/html": [
       "<div>\n",
       "<style scoped>\n",
       "    .dataframe tbody tr th:only-of-type {\n",
       "        vertical-align: middle;\n",
       "    }\n",
       "\n",
       "    .dataframe tbody tr th {\n",
       "        vertical-align: top;\n",
       "    }\n",
       "\n",
       "    .dataframe thead th {\n",
       "        text-align: right;\n",
       "    }\n",
       "</style>\n",
       "<table border=\"1\" class=\"dataframe\">\n",
       "  <thead>\n",
       "    <tr style=\"text-align: right;\">\n",
       "      <th></th>\n",
       "      <th>price</th>\n",
       "      <th>carbon_frame</th>\n",
       "      <th>titanium_frame</th>\n",
       "      <th>carbon_handlebar</th>\n",
       "      <th>carbon_crankset</th>\n",
       "      <th>carbon_seatpost</th>\n",
       "      <th>carbon_fork</th>\n",
       "      <th>disc_brakes</th>\n",
       "      <th>hydraulic_disc_brakes</th>\n",
       "      <th>mechanical_disc_brakes</th>\n",
       "      <th>fd_rank</th>\n",
       "      <th>rd_rank</th>\n",
       "      <th>shifter_rank</th>\n",
       "      <th>age</th>\n",
       "    </tr>\n",
       "  </thead>\n",
       "  <tbody>\n",
       "  </tbody>\n",
       "</table>\n",
       "</div>"
      ],
      "text/plain": [
       "Empty DataFrame\n",
       "Columns: [price, carbon_frame, titanium_frame, carbon_handlebar, carbon_crankset, carbon_seatpost, carbon_fork, disc_brakes, hydraulic_disc_brakes, mechanical_disc_brakes, fd_rank, rd_rank, shifter_rank, age]\n",
       "Index: []"
      ]
     },
     "execution_count": 162,
     "metadata": {},
     "output_type": "execute_result"
    }
   ],
   "source": [
    "pd.set_option('display.max_columns', None)\n",
    "model_df.loc[train_df.price > 10000,]"
   ]
  },
  {
   "cell_type": "code",
   "execution_count": null,
   "metadata": {},
   "outputs": [],
   "source": []
  }
 ],
 "metadata": {
  "kernelspec": {
   "display_name": "Python 3",
   "language": "python",
   "name": "python3"
  },
  "language_info": {
   "codemirror_mode": {
    "name": "ipython",
    "version": 3
   },
   "file_extension": ".py",
   "mimetype": "text/x-python",
   "name": "python",
   "nbconvert_exporter": "python",
   "pygments_lexer": "ipython3",
   "version": "3.6.9"
  }
 },
 "nbformat": 4,
 "nbformat_minor": 2
}
